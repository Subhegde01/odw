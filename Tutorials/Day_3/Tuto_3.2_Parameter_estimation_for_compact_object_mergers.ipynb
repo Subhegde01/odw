{
  "cells": [
    {
      "cell_type": "markdown",
      "metadata": {
        "Collapsed": "false",
        "editable": true,
        "id": "OjUNeFsxyguu",
        "tags": []
      },
      "source": [
        "<span style=\"float: left;padding: 1.3em\">![logo](https://github.com/gw-odw/odw/blob/main/Tutorials/logo.png?raw=1)</span>\n",
        "\n",
        "\n",
        "# Gravitational Wave Open Data Workshop\n",
        "\n",
        "## Tutorial 3.2: Parameter estimation for compact object mergers\n",
        "\n",
        "In this tutorial, we will learn how to run our own parameter estimation analysis for compact object mergers using the [bilby Bayesian inference library](https://lscsoft.docs.ligo.org/bilby/). Specifically, we will analyse the first detection, GW150914 using open data. Typically, a full analysis using stochastic sampling on a personal computer can take many hours if not days. Therefore, this analysis will be restricted to a non-spinning binary black hole model and neglect the marginalization of the calibration uncertainty. This will take about 30 minutes to run (note that a bottleneck is given by the first cell in the Section \"Create a likelihood-Run the analysis\": computational time depends a lot on the machine you decide to run, on Google Colab is about 10 minutes this cell only).\n",
        "   \n",
        "You can find more examples of using bilby here: https://lscsoft.docs.ligo.org/bilby/examples.html\n",
        "\n",
        "View this tutorial on [Google Colaboratory](https://colab.research.google.com/github/gw-odw/odw/blob/main/Tutorials/Day_3/Tuto_3.2_Parameter_estimation_for_compact_object_mergers.ipynb) or launch [mybinder](https://mybinder.org/v2/gh/gw-odw/odw/HEAD).\n"
      ]
    },
    {
      "cell_type": "code",
      "execution_count": 1,
      "metadata": {
        "id": "EUjED3HlTQzR"
      },
      "outputs": [],
      "source": [
        "# Those 2 lines are just to avoid some harmless warnings when importing packages\n",
        "import warnings\n",
        "warnings.filterwarnings(\"ignore\", \"Wswiglal-redir-stdio\")"
      ]
    },
    {
      "cell_type": "markdown",
      "metadata": {
        "Collapsed": "false",
        "editable": true,
        "id": "VwsIdKJ3yguv",
        "tags": []
      },
      "source": [
        "## Installation (execute only if running on a cloud platform, like Google Colab, or if you haven't done the installation already!)"
      ]
    },
    {
      "cell_type": "markdown",
      "metadata": {
        "Collapsed": "false",
        "editable": true,
        "id": "f0q3Y_9gygu0",
        "tags": []
      },
      "source": [
        "> ⚠️ **Warning**: restart the runtime after running the cell below.\n",
        ">\n",
        "> To do so, click \"Runtime\" in the menu and choose \"Restart and run all\"."
      ]
    },
    {
      "cell_type": "code",
      "execution_count": 3,
      "metadata": {
        "Collapsed": "false",
        "editable": true,
        "id": "eJeo4XrHyguw",
        "tags": []
      },
      "outputs": [],
      "source": [
        "# -- Use the following line in Google Colab\n",
        "! pip install -U -q bilby==2.4.0 matplotlib==3.10.0 dynesty==2.1.5 corner==2.2.3 gwpy==3.0.12 lalsuite==7.25 scipy==1.12.0"
      ]
    },
    {
      "cell_type": "markdown",
      "metadata": {
        "Collapsed": "false",
        "id": "XK8fHu13ygu1"
      },
      "source": [
        "## Initialization\n",
        "\n",
        "We begin by importing some commonly used functions"
      ]
    },
    {
      "cell_type": "code",
      "execution_count": 2,
      "metadata": {
        "Collapsed": "false",
        "id": "HyRSGt6cygu2",
        "tags": []
      },
      "outputs": [],
      "source": [
        "from __future__ import division, print_function\n",
        "%matplotlib inline\n",
        "import numpy as np\n",
        "# The first import of matplotlib can take some time (especially on cloud platforms). This is normal.\n",
        "import matplotlib.pyplot as plt\n",
        "\n",
        "import bilby\n",
        "from bilby.core.prior import Uniform, PowerLaw\n",
        "from bilby.gw.conversion import convert_to_lal_binary_black_hole_parameters, generate_all_bbh_parameters\n",
        "\n",
        "# Make bilby more terse\n",
        "bilby.core.utils.log.setup_logger(log_level='WARNING')\n",
        "\n",
        "from gwpy.timeseries import TimeSeries"
      ]
    },
    {
      "cell_type": "markdown",
      "metadata": {
        "id": "oerIYo_mTQzY"
      },
      "source": [
        "## Bilby version"
      ]
    },
    {
      "cell_type": "code",
      "execution_count": 3,
      "metadata": {
        "tags": [],
        "id": "r8l4ghwtTQzY",
        "outputId": "1c437f4e-8509-4458-b22a-8545022e7b89",
        "colab": {
          "base_uri": "https://localhost:8080/"
        }
      },
      "outputs": [
        {
          "output_type": "stream",
          "name": "stdout",
          "text": [
            "2.4.0\n"
          ]
        }
      ],
      "source": [
        "print(bilby.__version__)"
      ]
    },
    {
      "cell_type": "markdown",
      "metadata": {
        "Collapsed": "false",
        "id": "_Hd4d4KVygu6"
      },
      "source": [
        "## Getting the data: GW150914\n",
        "\n",
        "In this notebook, we'll analyse GW150914. Our first task is to obtain some data!\n",
        "\n",
        "We need to know the trigger time. This can be found on the [GWOSC page](https://gwosc.org/events/GW150914/), here we define it as a variable"
      ]
    },
    {
      "cell_type": "code",
      "execution_count": 4,
      "metadata": {
        "Collapsed": "false",
        "id": "1cUhLaFIygu6",
        "tags": []
      },
      "outputs": [],
      "source": [
        "time_of_event = 1126259462.4"
      ]
    },
    {
      "cell_type": "markdown",
      "metadata": {
        "id": "sCfyM732TQzb"
      },
      "source": [
        "### Set up empty interferometers\n",
        "\n",
        "We need to get some data to analyse. We'll be using data from the Hanford (H1) and Livingston (L1) ground-based gravitational wave detectors. To organise ourselves, we'll create two \"empty\" interferometers. These are empty in the sense that they don't have any strain data. But, they know about the orientation and location of their respective namesakes. It may also be interesting to note that they are initialised with the planned design sensitivity power spectral density of advanced LIGO - we'll overwrite this later on, but it is often useful for simulations."
      ]
    },
    {
      "cell_type": "code",
      "execution_count": 5,
      "metadata": {
        "tags": [],
        "id": "eX8JT7ZHTQzb"
      },
      "outputs": [],
      "source": [
        "H1 = bilby.gw.detector.get_empty_interferometer(\"H1\")\n",
        "L1 = bilby.gw.detector.get_empty_interferometer(\"L1\")"
      ]
    },
    {
      "cell_type": "markdown",
      "metadata": {
        "id": "_wAvGa9PTQzc"
      },
      "source": [
        "### Download the data\n",
        "\n",
        "To analyse the signal, we need to download analysis data. Here, we will use [gwpy](https://gwpy.github.io/) to download the open strain data. For a general introduction to reading/writing data with gwpy, see [the documentation](https://gwpy.github.io/docs/stable/timeseries/).\n",
        "\n",
        "To analyse GW150914, we will use a 4s period duration centered on the event itself. It is standard to choose the data such that it always includes a \"post trigger duration\" of 2s. That is, there is always 2s of data after the trigger time. We therefore define all times relative to the trigger time, duration and this post-trigger duration."
      ]
    },
    {
      "cell_type": "code",
      "execution_count": 6,
      "metadata": {
        "tags": [],
        "id": "7bBxFeqSTQzc"
      },
      "outputs": [],
      "source": [
        "# Definite times in relation to the trigger time (time_of_event), duration and post_trigger_duration\n",
        "post_trigger_duration = 2\n",
        "duration = 4\n",
        "analysis_start = time_of_event + post_trigger_duration - duration\n",
        "\n",
        "# Use gwpy to fetch the open data\n",
        "H1_analysis_data = TimeSeries.fetch_open_data(\n",
        "    \"H1\", analysis_start, analysis_start + duration, sample_rate=4096, cache=True)\n",
        "\n",
        "L1_analysis_data = TimeSeries.fetch_open_data(\n",
        "    \"L1\", analysis_start, analysis_start + duration, sample_rate=4096, cache=True)"
      ]
    },
    {
      "cell_type": "markdown",
      "metadata": {
        "id": "OjeXhKfWTQzc"
      },
      "source": [
        "Here, `H1_analysis_data` and its L1 counterpart are gwpy `TimeSeries` objects. As such, we can plot the out data itself:"
      ]
    },
    {
      "cell_type": "code",
      "execution_count": 8,
      "metadata": {
        "tags": [],
        "id": "Zn3feyOiTQzd",
        "outputId": "5e72d2f9-e359-41e5-f173-bb201ed8d9f8",
        "colab": {
          "base_uri": "https://localhost:8080/",
          "height": 370
        }
      },
      "outputs": [
        {
          "output_type": "display_data",
          "data": {
            "text/plain": [
              "<Plot size 1200x400 with 1 Axes>"
            ],
            "image/png": "[encoded data removed]"
          },
          "metadata": {}
        }
      ],
      "source": [
        "H1_analysis_data.plot()\n",
        "plt.show()"
      ]
    },
    {
      "cell_type": "markdown",
      "metadata": {
        "id": "0bXRCvxqTQzd"
      },
      "source": [
        "This doesn't tell us much of course! It is dominated by the low frequency noise.\n",
        "\n",
        "### Initialise the Bilby interferometers with the strain data\n",
        "\n",
        "Now, we pass the downloaded strain data to our `H1` and `L1` Bilby interferometer objects. For other methods to set the strain data, see the various `set_strain_data*` methods."
      ]
    },
    {
      "cell_type": "code",
      "execution_count": 9,
      "metadata": {
        "tags": [],
        "id": "IfYbTFumTQze"
      },
      "outputs": [],
      "source": [
        "H1.set_strain_data_from_gwpy_timeseries(H1_analysis_data)\n",
        "L1.set_strain_data_from_gwpy_timeseries(L1_analysis_data)"
      ]
    },
    {
      "cell_type": "markdown",
      "metadata": {
        "id": "YZhbPQXxTQze"
      },
      "source": [
        "### Download the power spectral data\n",
        "\n",
        "Parameter estimation relies on having a power spectral density (PSD) - an estimate of the coloured noise properties of the data. Here, we will create a PSD using off-source data. For a review of methods to estimate PSDs, see, e.g. [Chatziioannou et al. (2019)](https://ui.adsabs.harvard.edu/abs/2019PhRvD.100j4004C/abstract).\n",
        "\n",
        "Again, we need to download this from the open strain data. We start by figuring out the amount of data needed - in this case 32 times the analysis duration. We fetch the segment with this duration immediately preceding the analysis segment."
      ]
    },
    {
      "cell_type": "code",
      "execution_count": 10,
      "metadata": {
        "tags": [],
        "id": "zcXO_fw0TQzf"
      },
      "outputs": [],
      "source": [
        "psd_duration = duration * 32\n",
        "psd_start_time = analysis_start - psd_duration\n",
        "\n",
        "H1_psd_data = TimeSeries.fetch_open_data(\n",
        "    \"H1\", psd_start_time, psd_start_time + psd_duration, sample_rate=4096, cache=True)\n",
        "\n",
        "L1_psd_data = TimeSeries.fetch_open_data(\n",
        "    \"L1\", psd_start_time, psd_start_time + psd_duration, sample_rate=4096, cache=True)"
      ]
    },
    {
      "cell_type": "markdown",
      "metadata": {
        "id": "i3RZ4s0oTQzf"
      },
      "source": [
        "Having obtained the data to generate the PSD, we now use the standard [gwpy psd](https://gwpy.github.io/docs/stable/api/gwpy.timeseries.TimeSeries/#gwpy.timeseries.TimeSeries.psd) method to calculate the PSD. Here, the `psd_alpha` variable is converting the `roll_off` applied to the strain data into the fractional value used by `gwpy`. This applies a window with an appropriate shape to the time-domain data."
      ]
    },
    {
      "cell_type": "code",
      "execution_count": 11,
      "metadata": {
        "scrolled": true,
        "tags": [],
        "id": "A053H1XQTQzf"
      },
      "outputs": [],
      "source": [
        "psd_alpha = 2 * H1.strain_data.roll_off / duration\n",
        "H1_psd = H1_psd_data.psd(fftlength=duration, overlap=0, window=(\"tukey\", psd_alpha), method=\"median\")\n",
        "L1_psd = L1_psd_data.psd(fftlength=duration, overlap=0, window=(\"tukey\", psd_alpha), method=\"median\")"
      ]
    },
    {
      "cell_type": "markdown",
      "metadata": {
        "id": "uyGWQB1-TQzg"
      },
      "source": [
        "### Initialise the PSD\n",
        "Now that we have PSDs for H1 and L1, we can overwrite the `power_spectal_density` attribute of our interferometers with a new PSD."
      ]
    },
    {
      "cell_type": "code",
      "execution_count": 12,
      "metadata": {
        "tags": [],
        "id": "rDlrp4DKTQzg"
      },
      "outputs": [],
      "source": [
        "H1.power_spectral_density = bilby.gw.detector.PowerSpectralDensity(\n",
        "    frequency_array=H1_psd.frequencies.value, psd_array=H1_psd.value)\n",
        "L1.power_spectral_density = bilby.gw.detector.PowerSpectralDensity(\n",
        "    frequency_array=H1_psd.frequencies.value, psd_array=L1_psd.value)"
      ]
    },
    {
      "cell_type": "markdown",
      "metadata": {
        "id": "edDgGqkTTQzh"
      },
      "source": [
        "### Looking at the data\n",
        "Okay, we have spent a bit of time now downloading and initializing things. Let's check that everything makes sense. To do this, we'll plot our analysis data alongside the amplitude spectral density (ASD); this is just the square root of the PSD and has the right units to be comparable to the frequency-domain strain data."
      ]
    },
    {
      "cell_type": "code",
      "execution_count": 13,
      "metadata": {
        "tags": [],
        "id": "RL-NoJN4TQzh",
        "outputId": "a138771b-9b47-4c3e-d85d-d82297190c72",
        "colab": {
          "base_uri": "https://localhost:8080/",
          "height": 460
        }
      },
      "outputs": [
        {
          "output_type": "display_data",
          "data": {
            "text/plain": [
              "<Figure size 640x480 with 1 Axes>"
            ],
            "image/png": "[encoded data removed]"
          },
          "metadata": {}
        }
      ],
      "source": [
        "fig, ax = plt.subplots()\n",
        "idxs = H1.strain_data.frequency_mask  # This is a boolean mask of the frequencies which we'll use in the analysis\n",
        "ax.loglog(H1.strain_data.frequency_array[idxs],\n",
        "          np.abs(H1.strain_data.frequency_domain_strain[idxs]))\n",
        "ax.loglog(H1.power_spectral_density.frequency_array[idxs],\n",
        "          H1.power_spectral_density.asd_array[idxs])\n",
        "ax.set_xlabel(\"Frequency [Hz]\")\n",
        "ax.set_ylabel(\"Strain [strain/$\\sqrt{Hz}$]\")\n",
        "plt.show()"
      ]
    },
    {
      "cell_type": "markdown",
      "metadata": {
        "id": "xEM5uQE-TQzi"
      },
      "source": [
        "What is happening at high frequencies? This is an artifact of the downsampling applied to the data - note that we downloaded the 4096Hz data which is downsampled from 16384Hz. We aren't really interested in the data at these high frequencies so let's adjust the maximum frequency used in the analysis to 1024 Hz and plot things again."
      ]
    },
    {
      "cell_type": "code",
      "execution_count": 14,
      "metadata": {
        "tags": [],
        "id": "vD6n080xTQzi"
      },
      "outputs": [],
      "source": [
        "H1.maximum_frequency = 1024\n",
        "L1.maximum_frequency = 1024"
      ]
    },
    {
      "cell_type": "code",
      "execution_count": 15,
      "metadata": {
        "tags": [],
        "id": "_xjX-YsvTQzj",
        "outputId": "164c8de8-a16c-4ae6-b932-a644097199ad",
        "colab": {
          "base_uri": "https://localhost:8080/",
          "height": 460
        }
      },
      "outputs": [
        {
          "output_type": "display_data",
          "data": {
            "text/plain": [
              "<Figure size 640x480 with 1 Axes>"
            ],
            "image/png": "[encoded data removed]"
          },
          "metadata": {}
        }
      ],
      "source": [
        "fig, ax = plt.subplots()\n",
        "idxs = H1.strain_data.frequency_mask\n",
        "ax.loglog(H1.strain_data.frequency_array[idxs],\n",
        "          np.abs(H1.strain_data.frequency_domain_strain[idxs]))\n",
        "ax.loglog(H1.power_spectral_density.frequency_array[idxs],\n",
        "          H1.power_spectral_density.asd_array[idxs])\n",
        "ax.set_xlabel(\"Frequency [Hz]\")\n",
        "ax.set_ylabel(\"Strain [strain/$\\sqrt{Hz}$]\")\n",
        "plt.show()"
      ]
    },
    {
      "cell_type": "markdown",
      "metadata": {
        "id": "-5hmjk1zTQzj"
      },
      "source": [
        "Okay, that is better - we now won't analyse any data near to the artifact produced by downsampling. Now we have some sensible data to analyse so let's get right on with doing the analysis!"
      ]
    },
    {
      "cell_type": "markdown",
      "metadata": {
        "id": "mrmV_nZVTQzj"
      },
      "source": [
        "## Low dimensional analysis\n",
        "\n",
        "In general a compact binary coalescence signal is described by 15 parameters describing the masses, spins, orientation, and position of the two compact objects along with a time at which the signal merges. The goal of parameter estimation is to figure out what the data (and any cogent prior information) can tell us about the likely values of these parameters - this is called the \"posterior distribution of the parameters\".\n",
        "\n",
        "To start with, we'll analyse the data fixing all but a few of the parameters to known values (in Bayesian lingo - we use delta function priors), this will enable us to run things in a few minutes rather than the many hours needed to do full parameter estimation.\n",
        "\n",
        "We'll start by thinking about the mass of the system. We call the heavier black hole the primary and label its mass $m_1$ and that of the secondary (lighter) black hole $m_2$. In this way, we always define $m_1 \\ge m_2$. It turns out that inferences about $m_1$ and $m_2$ are highly correlated, we'll see exactly what this means later on.\n",
        "\n",
        "Bayesian inference methods are powerful at figuring out highly correlated posteriors. But, we can help it along by sampling in parameters which are not highly correlated. In particular, we define a new parameter called the [chirp mass](https://en.wikipedia.org/wiki/Chirp_mass) to be\n",
        "\n",
        "$$ \\mathcal{M} = \\frac{(m_1 m_2)^{3/5}}{(m_1 + m_2)^{1/5}} $$\n",
        "\n",
        "and the mass ratio\n",
        "\n",
        "$$ q = \\frac{m_{2}}{m_1} $$\n",
        "\n",
        "If we sample (make inferences about) $\\mathcal{M}$ and $q$, our code is much faster than if we use $m_1$ and $m_2$ directly! Note that so long as equivalent prior is given - one can also sample in the component masses themselves and you will get the same answer, it is just much slower!\n",
        "\n",
        "Once we have inferred $\\mathcal{M}$ and $q$, we can then derive $m_1$ and $m_2$ from the resulting samples (we'll do that in just a moment).\n",
        "\n",
        "Okay, let's run a short (~1min on a single 2.8GHz core), low-dimensional parameter estimation analysis. This is done by defining a prior dictionary where all parameters are fixed, except those that we want to vary."
      ]
    },
    {
      "cell_type": "markdown",
      "metadata": {
        "id": "qgD-FWJPTQzk"
      },
      "source": [
        "### Create a prior\n",
        "\n",
        "Here, we create a prior fixing everything except the chirp mass, mass ratio, phase and geocent_time parameters to fixed values. The first two were described above. The second two give the phase of the system and the time at which it merges referred to the centre of the Earth (which is the standard reference considering that different detectors detect the same signal at appreciable different times, depending on the source location in the sky)."
      ]
    },
    {
      "cell_type": "code",
      "execution_count": 16,
      "metadata": {
        "tags": [],
        "id": "LuuZ7RHaTQzk"
      },
      "outputs": [],
      "source": [
        "prior = bilby.core.prior.PriorDict()\n",
        "prior['chirp_mass'] = Uniform(name='chirp_mass', minimum=30.0,maximum=32.5)\n",
        "prior['mass_ratio'] = Uniform(name='mass_ratio', minimum=0.5, maximum=1)\n",
        "prior['phase'] = Uniform(name=\"phase\", minimum=0, maximum=2*np.pi)\n",
        "prior['geocent_time'] = Uniform(name=\"geocent_time\", minimum=time_of_event-0.1, maximum=time_of_event+0.1)\n",
        "prior['a_1'] =  0.0\n",
        "prior['a_2'] =  0.0\n",
        "prior['tilt_1'] =  0.0\n",
        "prior['tilt_2'] =  0.0\n",
        "prior['phi_12'] =  0.0\n",
        "prior['phi_jl'] =  0.0\n",
        "prior['dec'] =  -1.2232\n",
        "prior['ra'] =  2.19432\n",
        "prior['theta_jn'] =  1.89694\n",
        "prior['psi'] =  0.532268\n",
        "prior['luminosity_distance'] = PowerLaw(alpha=2, name='luminosity_distance', minimum=50, maximum=2000, unit='Mpc', latex_label='$d_L$')\n"
      ]
    },
    {
      "cell_type": "markdown",
      "metadata": {
        "id": "V443i376TQzl"
      },
      "source": [
        "## Create a likelihood\n",
        "\n",
        "For Bayesian inference, we need to evaluate the likelihood. In Bilby, we create a likelihood object. This is the communication interface between the sampling part of Bilby and the data. Explicitly, when Bilby is sampling it only uses the `parameters` and `log_likelihood()` of the likelihood object. This means the likelihood can be arbitrarily complicated and the sampling part of Bilby won't mind a bit!\n",
        "\n",
        "Let's create a `GravitationalWaveTransient`, a special inbuilt method carefully designed to wrap up evaluating the likelihood of a waveform model in some data."
      ]
    },
    {
      "cell_type": "code",
      "execution_count": 17,
      "metadata": {
        "tags": [],
        "id": "5tWFAbpbTQzl",
        "outputId": "f81f6459-4fa8-42bf-ac4b-d94de5bca32f",
        "colab": {
          "base_uri": "https://localhost:8080/",
          "height": 49,
          "referenced_widgets": [
            "f245b15ee9fa4375833e793118ac85f6",
            "b7f598c12dfd4126825082f9b55fe72f",
            "92f1baa8fc0b413e9fdd398f51192e96",
            "576739a6716840b9ba4d3162e1fc19af",
            "8797ccb3b3d94ab9aedaa91aac760ce0",
            "60bcc4fbdff6440bb103122630c55d53",
            "d447e8024d3a4f9fa5e8785f5621bf04",
            "5d240646de0e438bac3e194429313057",
            "8cdd261a30824f4daf2488d21c1e302b",
            "9dd2e14b8d5f43658ffe291b010b70b5",
            "dbe9dae1e89f4fd59345fad691246ebd"
          ]
        }
      },
      "outputs": [
        {
          "output_type": "display_data",
          "data": {
            "text/plain": [
              "  0%|          | 0/400 [00:00<?, ?it/s]"
            ],
            "application/vnd.jupyter.widget-view+json": {
              "version_major": 2,
              "version_minor": 0,
              "model_id": "f245b15ee9fa4375833e793118ac85f6"
            }
          },
          "metadata": {}
        }
      ],
      "source": [
        "# First, put our \"data\" created above into a list of interferometers (the order is arbitrary)\n",
        "interferometers = [H1, L1]\n",
        "\n",
        "# Next create a dictionary of arguments which we pass into the LALSimulation waveform - we specify the waveform approximant here\n",
        "waveform_arguments = dict(\n",
        "    waveform_approximant='IMRPhenomXP', reference_frequency=100., catch_waveform_errors=True)\n",
        "\n",
        "# Next, create a waveform_generator object. This wraps up some of the jobs of converting between parameters etc\n",
        "waveform_generator = bilby.gw.WaveformGenerator(\n",
        "    frequency_domain_source_model=bilby.gw.source.lal_binary_black_hole,\n",
        "    waveform_arguments=waveform_arguments,\n",
        "    parameter_conversion=convert_to_lal_binary_black_hole_parameters)\n",
        "\n",
        "# Finally, create our likelihood, passing in what is needed to get going\n",
        "likelihood = bilby.gw.likelihood.GravitationalWaveTransient(\n",
        "    interferometers, waveform_generator, priors=prior,\n",
        "    time_marginalization=True, phase_marginalization=True, distance_marginalization=True)"
      ]
    },
    {
      "cell_type": "markdown",
      "metadata": {
        "id": "AW0AbfCfTQzl"
      },
      "source": [
        "Note that we also specify `time_marginalization=True`, `phase_marginalization=True`, and `distance_marginalization=True`. This is a trick often used in Bayesian inference. We analytically marginalize (integrate) over the time/phase of the system while sampling, effectively reducing the parameter space and making it easier to sample. Bilby will then figure out (after the sampling) posteriors for these marginalized parameters. For an introduction to this topic, see [Thrane & Talbot (2019)](https://arxiv.org/abs/1809.02293)."
      ]
    },
    {
      "cell_type": "markdown",
      "metadata": {
        "id": "GYch5hM9TQzm"
      },
      "source": [
        "### Run the analysis"
      ]
    },
    {
      "cell_type": "markdown",
      "metadata": {
        "Collapsed": "false",
        "id": "LCfygeVyygvM"
      },
      "source": [
        "Now that the prior is set-up and the likelihood is set-up (with the data and the signal mode), we can run the sampler to get the posterior result. This function takes the likelihood and prior along with some options for how to do the sampling and how to save the data."
      ]
    },
    {
      "cell_type": "code",
      "execution_count": 18,
      "metadata": {
        "Collapsed": "false",
        "colab": {
          "base_uri": "https://localhost:8080/",
          "height": 194,
          "referenced_widgets": [
            "7342ef7576014e6099c3b76a4098810d",
            "b0fc40bc07064a268cf6ddee7bd777d5",
            "2dd766f5f8b14649b7afe6f18c08afb8",
            "a6628d9614c94d8fb50254057eaee9b9",
            "561f5d98ffc14fe7a696d414ab434abc",
            "abc6786f177b46a0ad0e38f70d23da00",
            "39105612d22c4999b25efa1531d0a9c4",
            "b2cbca697b1847d98505ad5240b7edc1",
            "9a2580b1ad06454e85adf04961b19eff",
            "d237c345534d4aa492748f40caaa160e",
            "ace9478ad19a497c9e394b1c8178ceab",
            "ccb82523c9344522999ce2986af2195d",
            "1d347cfdb3244cf1937ab5534b75b6ac",
            "bf5c41ee8b0c432bb90d92bad75448e3",
            "145a3ea3ba424f15ae612b5e6f21971f",
            "bfe09671d65b4107a7eb4940a17caf28",
            "b037a79e246e4868aebad737c57f0718",
            "44812a78207343d9ab883d772d4911f4",
            "c00cc06a9a08424a989494e292b162b8",
            "36b5c3ee880a4f208fb7956f09a82643",
            "df4f8ceba98f4e80be0a2f21b35e0d12",
            "9feb42a4829f409c95197d54b414fc2d",
            "8beabea32f544c6aa32e96841bdb54ff",
            "efa212aec82f49b8b1ca1d3fa88a61b3",
            "e7356d0a46ca4ef094d93e803cecfe3f",
            "fe31637c92ce4933a3e1a25ca1207d01",
            "9b804be8d4cb4469849f268f8f53bb54",
            "fd1eb0518d844d93bf1798f9f4af42f3",
            "89169763bccf41259252a2bb2798127e",
            "7665283853aa4be79456f0405e9082e9",
            "d31bbd7d5062464d8de8eeac27fb4c66",
            "317030e412594544a41713205cf12f9a",
            "03b5ff5168d24ad4b8e63d4ef17104b4",
            "e089043d875c472d9ddd9f01c16bd81e",
            "9293d78598164d10bdfc2e47e8c2db32",
            "281a9d9d502f4b089babb48fc8e9197e",
            "570619d8f5c6428bb715b9546eadc492",
            "34f5747b2eaf4ed3b7184ed4211a342b",
            "c1f6ebe9173e45dbbbe4b30654baba64",
            "506c6c640a2d4b41bcb88aa63b3838fe",
            "fe862ecf6a2f4e87bb990433c411d51e",
            "85b5abeeddba487da4fa20dd8c481f13",
            "2a3dc253a4c94f39a1b97a6c2fcecf2b",
            "855e198d66674765a10ed9b98dada552",
            "b3112015bc55443aba311a67d707ef2d",
            "35fea16e15ce4a91942b6480ff1fd207",
            "907e956fc0574ffeb60cf6f6aa983a90",
            "900a9c8efa564808a1f2eaaad6991b0d",
            "8d010466edbe497a897ce1e8181f29a3",
            "d8d48e479c2f480dae05dd6336cab8a7",
            "f7acbfc196af4e99865cf548ead382a7",
            "9c81be3469df4f1380b3c1a1277ed830",
            "741cea9d286f4ea190b529b7790cc52c",
            "3868c1a94689491d89cc8e2efb38089e",
            "2e55aba11dbc4fbba16072950cd72c3d"
          ]
        },
        "id": "HHS9JSX3ygvN",
        "outputId": "4e2ec05d-3bc1-4738-95aa-5d0f17887716",
        "tags": []
      },
      "outputs": [
        {
          "output_type": "display_data",
          "data": {
            "text/plain": [
              "1it [00:00, ?it/s]"
            ],
            "application/vnd.jupyter.widget-view+json": {
              "version_major": 2,
              "version_minor": 0,
              "model_id": "7342ef7576014e6099c3b76a4098810d"
            }
          },
          "metadata": {}
        },
        {
          "output_type": "stream",
          "name": "stdout",
          "text": [
            "\n"
          ]
        },
        {
          "output_type": "display_data",
          "data": {
            "text/plain": [
              "  0%|          | 0/271 [00:00<?, ?it/s]"
            ],
            "application/vnd.jupyter.widget-view+json": {
              "version_major": 2,
              "version_minor": 0,
              "model_id": "ccb82523c9344522999ce2986af2195d"
            }
          },
          "metadata": {}
        },
        {
          "output_type": "display_data",
          "data": {
            "text/plain": [
              "  0%|          | 0/271 [00:00<?, ?it/s]"
            ],
            "application/vnd.jupyter.widget-view+json": {
              "version_major": 2,
              "version_minor": 0,
              "model_id": "8beabea32f544c6aa32e96841bdb54ff"
            }
          },
          "metadata": {}
        },
        {
          "output_type": "display_data",
          "data": {
            "text/plain": [
              "  0%|          | 0/271 [00:00<?, ?it/s]"
            ],
            "application/vnd.jupyter.widget-view+json": {
              "version_major": 2,
              "version_minor": 0,
              "model_id": "e089043d875c472d9ddd9f01c16bd81e"
            }
          },
          "metadata": {}
        },
        {
          "output_type": "display_data",
          "data": {
            "text/plain": [
              "  0%|          | 0/271 [00:00<?, ?it/s]"
            ],
            "application/vnd.jupyter.widget-view+json": {
              "version_major": 2,
              "version_minor": 0,
              "model_id": "b3112015bc55443aba311a67d707ef2d"
            }
          },
          "metadata": {}
        }
      ],
      "source": [
        "result_short = bilby.run_sampler(\n",
        "    likelihood, prior, sampler='dynesty', outdir='short', label=\"GW150914\",\n",
        "    conversion_function=bilby.gw.conversion.generate_all_bbh_parameters,\n",
        "    nlive=250, dlogz=1.,  # <- Arguments are used to make things fast - not recommended for general use\n",
        "    clean=True,\n",
        ")"
      ]
    },
    {
      "cell_type": "markdown",
      "metadata": {
        "id": "x5bC8uXuTQzo"
      },
      "source": [
        "### Looking at the outputs"
      ]
    },
    {
      "cell_type": "markdown",
      "metadata": {
        "Collapsed": "false",
        "id": "wKR045TIygvT"
      },
      "source": [
        "The `run_sampler` returned `result_short` - this is a Bilby result object. The posterior samples are stored in a [pandas data frame](https://pandas.pydata.org/pandas-docs/stable/reference/api/pandas.DataFrame.html) (think of this like a spreadsheet); let's take a look at it"
      ]
    },
    {
      "cell_type": "code",
      "execution_count": 19,
      "metadata": {
        "tags": [],
        "id": "yDiX59BoTQzo",
        "outputId": "ba49d553-ba8e-4151-e992-e053d33ae98f",
        "colab": {
          "base_uri": "https://localhost:8080/",
          "height": 444
        }
      },
      "outputs": [
        {
          "output_type": "execute_result",
          "data": {
            "text/plain": [
              "     chirp_mass  mass_ratio  time_jitter     phase  geocent_time  a_1  a_2  \\\n",
              "0     30.127207    0.718425     0.000207  1.653261  1.126259e+09  0.0  0.0   \n",
              "1     31.701703    0.974449     0.000187  4.471583  1.126259e+09  0.0  0.0   \n",
              "2     31.066396    0.698646    -0.000181  4.409638  1.126259e+09  0.0  0.0   \n",
              "3     30.526334    0.788900    -0.000169  4.826758  1.126259e+09  0.0  0.0   \n",
              "4     30.735058    0.625661     0.000008  1.193897  1.126259e+09  0.0  0.0   \n",
              "..          ...         ...          ...       ...           ...  ...  ...   \n",
              "266   31.108869    0.980463    -0.000045  1.554852  1.126259e+09  0.0  0.0   \n",
              "267   31.157610    0.966981    -0.000110  4.697130  1.126259e+09  0.0  0.0   \n",
              "268   31.106858    0.961736    -0.000054  4.550339  1.126259e+09  0.0  0.0   \n",
              "269   31.034944    0.949009    -0.000026  4.663352  1.126259e+09  0.0  0.0   \n",
              "270   31.056217    0.966477    -0.000074  1.625887  1.126259e+09  0.0  0.0   \n",
              "\n",
              "     tilt_1  tilt_2  phi_12  ...  chi_2_in_plane  chi_p  cos_tilt_1  \\\n",
              "0       0.0     0.0     0.0  ...             0.0    0.0         1.0   \n",
              "1       0.0     0.0     0.0  ...             0.0    0.0         1.0   \n",
              "2       0.0     0.0     0.0  ...             0.0    0.0         1.0   \n",
              "3       0.0     0.0     0.0  ...             0.0    0.0         1.0   \n",
              "4       0.0     0.0     0.0  ...             0.0    0.0         1.0   \n",
              "..      ...     ...     ...  ...             ...    ...         ...   \n",
              "266     0.0     0.0     0.0  ...             0.0    0.0         1.0   \n",
              "267     0.0     0.0     0.0  ...             0.0    0.0         1.0   \n",
              "268     0.0     0.0     0.0  ...             0.0    0.0         1.0   \n",
              "269     0.0     0.0     0.0  ...             0.0    0.0         1.0   \n",
              "270     0.0     0.0     0.0  ...             0.0    0.0         1.0   \n",
              "\n",
              "     cos_tilt_2  redshift  comoving_distance  mass_1_source  mass_2_source  \\\n",
              "0           1.0  0.061197         266.951822      38.579799      27.716691   \n",
              "1           1.0  0.066925         291.535858      34.576603      33.693128   \n",
              "2           1.0  0.067652         294.648386      40.116930      28.027514   \n",
              "3           1.0  0.063518         276.921509      37.173523      29.326191   \n",
              "4           1.0  0.059204         258.377993      42.369863      26.509183   \n",
              "..          ...       ...                ...            ...            ...   \n",
              "266         1.0  0.063330         276.111300      33.939923      33.276852   \n",
              "267         1.0  0.066008         287.601717      34.143891      33.016507   \n",
              "268         1.0  0.064741         282.168172      34.222107      32.912645   \n",
              "269         1.0  0.067678         294.760571      34.277667      32.529819   \n",
              "270         1.0  0.062012         270.450431      34.169779      33.024305   \n",
              "\n",
              "     chirp_mass_source total_mass_source  \n",
              "0            28.389824         66.296490  \n",
              "1            29.713140         68.269731  \n",
              "2            29.097875         68.144444  \n",
              "3            28.703158         66.499714  \n",
              "4            29.017141         68.879046  \n",
              "..                 ...               ...  \n",
              "266          29.256092         67.216775  \n",
              "267          29.228318         67.160398  \n",
              "268          29.215427         67.134752  \n",
              "269          29.067703         66.807486  \n",
              "270          29.242824         67.194084  \n",
              "\n",
              "[271 rows x 52 columns]"
            ],
            "text/html": [
              "\n",
              "  <div id=\"df-de4a87fd-6f8a-460e-90f9-c27db8597d60\" class=\"colab-df-container\">\n",
              "    <div>\n",
              "<style scoped>\n",
              "    .dataframe tbody tr th:only-of-type {\n",
              "        vertical-align: middle;\n",
              "    }\n",
              "\n",
              "    .dataframe tbody tr th {\n",
              "        vertical-align: top;\n",
              "    }\n",
              "\n",
              "    .dataframe thead th {\n",
              "        text-align: right;\n",
              "    }\n",
              "</style>\n",
              "<table border=\"1\" class=\"dataframe\">\n",
              "  <thead>\n",
              "    <tr style=\"text-align: right;\">\n",
              "      <th></th>\n",
              "      <th>chirp_mass</th>\n",
              "      <th>mass_ratio</th>\n",
              "      <th>time_jitter</th>\n",
              "      <th>phase</th>\n",
              "      <th>geocent_time</th>\n",
              "      <th>a_1</th>\n",
              "      <th>a_2</th>\n",
              "      <th>tilt_1</th>\n",
              "      <th>tilt_2</th>\n",
              "      <th>phi_12</th>\n",
              "      <th>...</th>\n",
              "      <th>chi_2_in_plane</th>\n",
              "      <th>chi_p</th>\n",
              "      <th>cos_tilt_1</th>\n",
              "      <th>cos_tilt_2</th>\n",
              "      <th>redshift</th>\n",
              "      <th>comoving_distance</th>\n",
              "      <th>mass_1_source</th>\n",
              "      <th>mass_2_source</th>\n",
              "      <th>chirp_mass_source</th>\n",
              "      <th>total_mass_source</th>\n",
              "    </tr>\n",
              "  </thead>\n",
              "  <tbody>\n",
              "    <tr>\n",
              "      <th>0</th>\n",
              "      <td>30.127207</td>\n",
              "      <td>0.718425</td>\n",
              "      <td>0.000207</td>\n",
              "      <td>1.653261</td>\n",
              "      <td>1.126259e+09</td>\n",
              "      <td>0.0</td>\n",
              "      <td>0.0</td>\n",
              "      <td>0.0</td>\n",
              "      <td>0.0</td>\n",
              "      <td>0.0</td>\n",
              "      <td>...</td>\n",
              "      <td>0.0</td>\n",
              "      <td>0.0</td>\n",
              "      <td>1.0</td>\n",
              "      <td>1.0</td>\n",
              "      <td>0.061197</td>\n",
              "      <td>266.951822</td>\n",
              "      <td>38.579799</td>\n",
              "      <td>27.716691</td>\n",
              "      <td>28.389824</td>\n",
              "      <td>66.296490</td>\n",
              "    </tr>\n",
              "    <tr>\n",
              "      <th>1</th>\n",
              "      <td>31.701703</td>\n",
              "      <td>0.974449</td>\n",
              "      <td>0.000187</td>\n",
              "      <td>4.471583</td>\n",
              "      <td>1.126259e+09</td>\n",
              "      <td>0.0</td>\n",
              "      <td>0.0</td>\n",
              "      <td>0.0</td>\n",
              "      <td>0.0</td>\n",
              "      <td>0.0</td>\n",
              "      <td>...</td>\n",
              "      <td>0.0</td>\n",
              "      <td>0.0</td>\n",
              "      <td>1.0</td>\n",
              "      <td>1.0</td>\n",
              "      <td>0.066925</td>\n",
              "      <td>291.535858</td>\n",
              "      <td>34.576603</td>\n",
              "      <td>33.693128</td>\n",
              "      <td>29.713140</td>\n",
              "      <td>68.269731</td>\n",
              "    </tr>\n",
              "    <tr>\n",
              "      <th>2</th>\n",
              "      <td>31.066396</td>\n",
              "      <td>0.698646</td>\n",
              "      <td>-0.000181</td>\n",
              "      <td>4.409638</td>\n",
              "      <td>1.126259e+09</td>\n",
              "      <td>0.0</td>\n",
              "      <td>0.0</td>\n",
              "      <td>0.0</td>\n",
              "      <td>0.0</td>\n",
              "      <td>0.0</td>\n",
              "      <td>...</td>\n",
              "      <td>0.0</td>\n",
              "      <td>0.0</td>\n",
              "      <td>1.0</td>\n",
              "      <td>1.0</td>\n",
              "      <td>0.067652</td>\n",
              "      <td>294.648386</td>\n",
              "      <td>40.116930</td>\n",
              "      <td>28.027514</td>\n",
              "      <td>29.097875</td>\n",
              "      <td>68.144444</td>\n",
              "    </tr>\n",
              "    <tr>\n",
              "      <th>3</th>\n",
              "      <td>30.526334</td>\n",
              "      <td>0.788900</td>\n",
              "      <td>-0.000169</td>\n",
              "      <td>4.826758</td>\n",
              "      <td>1.126259e+09</td>\n",
              "      <td>0.0</td>\n",
              "      <td>0.0</td>\n",
              "      <td>0.0</td>\n",
              "      <td>0.0</td>\n",
              "      <td>0.0</td>\n",
              "      <td>...</td>\n",
              "      <td>0.0</td>\n",
              "      <td>0.0</td>\n",
              "      <td>1.0</td>\n",
              "      <td>1.0</td>\n",
              "      <td>0.063518</td>\n",
              "      <td>276.921509</td>\n",
              "      <td>37.173523</td>\n",
              "      <td>29.326191</td>\n",
              "      <td>28.703158</td>\n",
              "      <td>66.499714</td>\n",
              "    </tr>\n",
              "    <tr>\n",
              "      <th>4</th>\n",
              "      <td>30.735058</td>\n",
              "      <td>0.625661</td>\n",
              "      <td>0.000008</td>\n",
              "      <td>1.193897</td>\n",
              "      <td>1.126259e+09</td>\n",
              "      <td>0.0</td>\n",
              "      <td>0.0</td>\n",
              "      <td>0.0</td>\n",
              "      <td>0.0</td>\n",
              "      <td>0.0</td>\n",
              "      <td>...</td>\n",
              "      <td>0.0</td>\n",
              "      <td>0.0</td>\n",
              "      <td>1.0</td>\n",
              "      <td>1.0</td>\n",
              "      <td>0.059204</td>\n",
              "      <td>258.377993</td>\n",
              "      <td>42.369863</td>\n",
              "      <td>26.509183</td>\n",
              "      <td>29.017141</td>\n",
              "      <td>68.879046</td>\n",
              "    </tr>\n",
              "    <tr>\n",
              "      <th>...</th>\n",
              "      <td>...</td>\n",
              "      <td>...</td>\n",
              "      <td>...</td>\n",
              "      <td>...</td>\n",
              "      <td>...</td>\n",
              "      <td>...</td>\n",
              "      <td>...</td>\n",
              "      <td>...</td>\n",
              "      <td>...</td>\n",
              "      <td>...</td>\n",
              "      <td>...</td>\n",
              "      <td>...</td>\n",
              "      <td>...</td>\n",
              "      <td>...</td>\n",
              "      <td>...</td>\n",
              "      <td>...</td>\n",
              "      <td>...</td>\n",
              "      <td>...</td>\n",
              "      <td>...</td>\n",
              "      <td>...</td>\n",
              "      <td>...</td>\n",
              "    </tr>\n",
              "    <tr>\n",
              "      <th>266</th>\n",
              "      <td>31.108869</td>\n",
              "      <td>0.980463</td>\n",
              "      <td>-0.000045</td>\n",
              "      <td>1.554852</td>\n",
              "      <td>1.126259e+09</td>\n",
              "      <td>0.0</td>\n",
              "      <td>0.0</td>\n",
              "      <td>0.0</td>\n",
              "      <td>0.0</td>\n",
              "      <td>0.0</td>\n",
              "      <td>...</td>\n",
              "      <td>0.0</td>\n",
              "      <td>0.0</td>\n",
              "      <td>1.0</td>\n",
              "      <td>1.0</td>\n",
              "      <td>0.063330</td>\n",
              "      <td>276.111300</td>\n",
              "      <td>33.939923</td>\n",
              "      <td>33.276852</td>\n",
              "      <td>29.256092</td>\n",
              "      <td>67.216775</td>\n",
              "    </tr>\n",
              "    <tr>\n",
              "      <th>267</th>\n",
              "      <td>31.157610</td>\n",
              "      <td>0.966981</td>\n",
              "      <td>-0.000110</td>\n",
              "      <td>4.697130</td>\n",
              "      <td>1.126259e+09</td>\n",
              "      <td>0.0</td>\n",
              "      <td>0.0</td>\n",
              "      <td>0.0</td>\n",
              "      <td>0.0</td>\n",
              "      <td>0.0</td>\n",
              "      <td>...</td>\n",
              "      <td>0.0</td>\n",
              "      <td>0.0</td>\n",
              "      <td>1.0</td>\n",
              "      <td>1.0</td>\n",
              "      <td>0.066008</td>\n",
              "      <td>287.601717</td>\n",
              "      <td>34.143891</td>\n",
              "      <td>33.016507</td>\n",
              "      <td>29.228318</td>\n",
              "      <td>67.160398</td>\n",
              "    </tr>\n",
              "    <tr>\n",
              "      <th>268</th>\n",
              "      <td>31.106858</td>\n",
              "      <td>0.961736</td>\n",
              "      <td>-0.000054</td>\n",
              "      <td>4.550339</td>\n",
              "      <td>1.126259e+09</td>\n",
              "      <td>0.0</td>\n",
              "      <td>0.0</td>\n",
              "      <td>0.0</td>\n",
              "      <td>0.0</td>\n",
              "      <td>0.0</td>\n",
              "      <td>...</td>\n",
              "      <td>0.0</td>\n",
              "      <td>0.0</td>\n",
              "      <td>1.0</td>\n",
              "      <td>1.0</td>\n",
              "      <td>0.064741</td>\n",
              "      <td>282.168172</td>\n",
              "      <td>34.222107</td>\n",
              "      <td>32.912645</td>\n",
              "      <td>29.215427</td>\n",
              "      <td>67.134752</td>\n",
              "    </tr>\n",
              "    <tr>\n",
              "      <th>269</th>\n",
              "      <td>31.034944</td>\n",
              "      <td>0.949009</td>\n",
              "      <td>-0.000026</td>\n",
              "      <td>4.663352</td>\n",
              "      <td>1.126259e+09</td>\n",
              "      <td>0.0</td>\n",
              "      <td>0.0</td>\n",
              "      <td>0.0</td>\n",
              "      <td>0.0</td>\n",
              "      <td>0.0</td>\n",
              "      <td>...</td>\n",
              "      <td>0.0</td>\n",
              "      <td>0.0</td>\n",
              "      <td>1.0</td>\n",
              "      <td>1.0</td>\n",
              "      <td>0.067678</td>\n",
              "      <td>294.760571</td>\n",
              "      <td>34.277667</td>\n",
              "      <td>32.529819</td>\n",
              "      <td>29.067703</td>\n",
              "      <td>66.807486</td>\n",
              "    </tr>\n",
              "    <tr>\n",
              "      <th>270</th>\n",
              "      <td>31.056217</td>\n",
              "      <td>0.966477</td>\n",
              "      <td>-0.000074</td>\n",
              "      <td>1.625887</td>\n",
              "      <td>1.126259e+09</td>\n",
              "      <td>0.0</td>\n",
              "      <td>0.0</td>\n",
              "      <td>0.0</td>\n",
              "      <td>0.0</td>\n",
              "      <td>0.0</td>\n",
              "      <td>...</td>\n",
              "      <td>0.0</td>\n",
              "      <td>0.0</td>\n",
              "      <td>1.0</td>\n",
              "      <td>1.0</td>\n",
              "      <td>0.062012</td>\n",
              "      <td>270.450431</td>\n",
              "      <td>34.169779</td>\n",
              "      <td>33.024305</td>\n",
              "      <td>29.242824</td>\n",
              "      <td>67.194084</td>\n",
              "    </tr>\n",
              "  </tbody>\n",
              "</table>\n",
              "<p>271 rows × 52 columns</p>\n",
              "</div>\n",
              "    <div class=\"colab-df-buttons\">\n",
              "\n",
              "  <div class=\"colab-df-container\">\n",
              "    <button class=\"colab-df-convert\" onclick=\"convertToInteractive('df-de4a87fd-6f8a-460e-90f9-c27db8597d60')\"\n",
              "            title=\"Convert this dataframe to an interactive table.\"\n",
              "            style=\"display:none;\">\n",
              "\n",
              "  <svg xmlns=\"http://www.w3.org/2000/svg\" height=\"24px\" viewBox=\"0 -960 960 960\">\n",
              "    <path d=\"M120-120v-720h720v720H120Zm60-500h600v-160H180v160Zm220 220h160v-160H400v160Zm0 220h160v-160H400v160ZM180-400h160v-160H180v160Zm440 0h160v-160H620v160ZM180-180h160v-160H180v160Zm440 0h160v-160H620v160Z\"/>\n",
              "  </svg>\n",
              "    </button>\n",
              "\n",
              "  <style>\n",
              "    .colab-df-container {\n",
              "      display:flex;\n",
              "      gap: 12px;\n",
              "    }\n",
              "\n",
              "    .colab-df-convert {\n",
              "      background-color: #E8F0FE;\n",
              "      border: none;\n",
              "      border-radius: 50%;\n",
              "      cursor: pointer;\n",
              "      display: none;\n",
              "      fill: #1967D2;\n",
              "      height: 32px;\n",
              "      padding: 0 0 0 0;\n",
              "      width: 32px;\n",
              "    }\n",
              "\n",
              "    .colab-df-convert:hover {\n",
              "      background-color: #E2EBFA;\n",
              "      box-shadow: 0px 1px 2px rgba(60, 64, 67, 0.3), 0px 1px 3px 1px rgba(60, 64, 67, 0.15);\n",
              "      fill: #174EA6;\n",
              "    }\n",
              "\n",
              "    .colab-df-buttons div {\n",
              "      margin-bottom: 4px;\n",
              "    }\n",
              "\n",
              "    [theme=dark] .colab-df-convert {\n",
              "      background-color: #3B4455;\n",
              "      fill: #D2E3FC;\n",
              "    }\n",
              "\n",
              "    [theme=dark] .colab-df-convert:hover {\n",
              "      background-color: #434B5C;\n",
              "      box-shadow: 0px 1px 3px 1px rgba(0, 0, 0, 0.15);\n",
              "      filter: drop-shadow(0px 1px 2px rgba(0, 0, 0, 0.3));\n",
              "      fill: #FFFFFF;\n",
              "    }\n",
              "  </style>\n",
              "\n",
              "    <script>\n",
              "      const buttonEl =\n",
              "        document.querySelector('#df-de4a87fd-6f8a-460e-90f9-c27db8597d60 button.colab-df-convert');\n",
              "      buttonEl.style.display =\n",
              "        google.colab.kernel.accessAllowed ? 'block' : 'none';\n",
              "\n",
              "      async function convertToInteractive(key) {\n",
              "        const element = document.querySelector('#df-de4a87fd-6f8a-460e-90f9-c27db8597d60');\n",
              "        const dataTable =\n",
              "          await google.colab.kernel.invokeFunction('convertToInteractive',\n",
              "                                                    [key], {});\n",
              "        if (!dataTable) return;\n",
              "\n",
              "        const docLinkHtml = 'Like what you see? Visit the ' +\n",
              "          '<a target=\"_blank\" href=https://colab.research.google.com/notebooks/data_table.ipynb>data table notebook</a>'\n",
              "          + ' to learn more about interactive tables.';\n",
              "        element.innerHTML = '';\n",
              "        dataTable['output_type'] = 'display_data';\n",
              "        await google.colab.output.renderOutput(dataTable, element);\n",
              "        const docLink = document.createElement('div');\n",
              "        docLink.innerHTML = docLinkHtml;\n",
              "        element.appendChild(docLink);\n",
              "      }\n",
              "    </script>\n",
              "  </div>\n",
              "\n",
              "\n",
              "    <div id=\"df-07af22df-ede7-4e2e-9405-c0c0c98c8cb6\">\n",
              "      <button class=\"colab-df-quickchart\" onclick=\"quickchart('df-07af22df-ede7-4e2e-9405-c0c0c98c8cb6')\"\n",
              "                title=\"Suggest charts\"\n",
              "                style=\"display:none;\">\n",
              "\n",
              "<svg xmlns=\"http://www.w3.org/2000/svg\" height=\"24px\"viewBox=\"0 0 24 24\"\n",
              "     width=\"24px\">\n",
              "    <g>\n",
              "        <path d=\"M19 3H5c-1.1 0-2 .9-2 2v14c0 1.1.9 2 2 2h14c1.1 0 2-.9 2-2V5c0-1.1-.9-2-2-2zM9 17H7v-7h2v7zm4 0h-2V7h2v10zm4 0h-2v-4h2v4z\"/>\n",
              "    </g>\n",
              "</svg>\n",
              "      </button>\n",
              "\n",
              "<style>\n",
              "  .colab-df-quickchart {\n",
              "      --bg-color: #E8F0FE;\n",
              "      --fill-color: #1967D2;\n",
              "      --hover-bg-color: #E2EBFA;\n",
              "      --hover-fill-color: #174EA6;\n",
              "      --disabled-fill-color: #AAA;\n",
              "      --disabled-bg-color: #DDD;\n",
              "  }\n",
              "\n",
              "  [theme=dark] .colab-df-quickchart {\n",
              "      --bg-color: #3B4455;\n",
              "      --fill-color: #D2E3FC;\n",
              "      --hover-bg-color: #434B5C;\n",
              "      --hover-fill-color: #FFFFFF;\n",
              "      --disabled-bg-color: #3B4455;\n",
              "      --disabled-fill-color: #666;\n",
              "  }\n",
              "\n",
              "  .colab-df-quickchart {\n",
              "    background-color: var(--bg-color);\n",
              "    border: none;\n",
              "    border-radius: 50%;\n",
              "    cursor: pointer;\n",
              "    display: none;\n",
              "    fill: var(--fill-color);\n",
              "    height: 32px;\n",
              "    padding: 0;\n",
              "    width: 32px;\n",
              "  }\n",
              "\n",
              "  .colab-df-quickchart:hover {\n",
              "    background-color: var(--hover-bg-color);\n",
              "    box-shadow: 0 1px 2px rgba(60, 64, 67, 0.3), 0 1px 3px 1px rgba(60, 64, 67, 0.15);\n",
              "    fill: var(--button-hover-fill-color);\n",
              "  }\n",
              "\n",
              "  .colab-df-quickchart-complete:disabled,\n",
              "  .colab-df-quickchart-complete:disabled:hover {\n",
              "    background-color: var(--disabled-bg-color);\n",
              "    fill: var(--disabled-fill-color);\n",
              "    box-shadow: none;\n",
              "  }\n",
              "\n",
              "  .colab-df-spinner {\n",
              "    border: 2px solid var(--fill-color);\n",
              "    border-color: transparent;\n",
              "    border-bottom-color: var(--fill-color);\n",
              "    animation:\n",
              "      spin 1s steps(1) infinite;\n",
              "  }\n",
              "\n",
              "  @keyframes spin {\n",
              "    0% {\n",
              "      border-color: transparent;\n",
              "      border-bottom-color: var(--fill-color);\n",
              "      border-left-color: var(--fill-color);\n",
              "    }\n",
              "    20% {\n",
              "      border-color: transparent;\n",
              "      border-left-color: var(--fill-color);\n",
              "      border-top-color: var(--fill-color);\n",
              "    }\n",
              "    30% {\n",
              "      border-color: transparent;\n",
              "      border-left-color: var(--fill-color);\n",
              "      border-top-color: var(--fill-color);\n",
              "      border-right-color: var(--fill-color);\n",
              "    }\n",
              "    40% {\n",
              "      border-color: transparent;\n",
              "      border-right-color: var(--fill-color);\n",
              "      border-top-color: var(--fill-color);\n",
              "    }\n",
              "    60% {\n",
              "      border-color: transparent;\n",
              "      border-right-color: var(--fill-color);\n",
              "    }\n",
              "    80% {\n",
              "      border-color: transparent;\n",
              "      border-right-color: var(--fill-color);\n",
              "      border-bottom-color: var(--fill-color);\n",
              "    }\n",
              "    90% {\n",
              "      border-color: transparent;\n",
              "      border-bottom-color: var(--fill-color);\n",
              "    }\n",
              "  }\n",
              "</style>\n",
              "\n",
              "      <script>\n",
              "        async function quickchart(key) {\n",
              "          const quickchartButtonEl =\n",
              "            document.querySelector('#' + key + ' button');\n",
              "          quickchartButtonEl.disabled = true;  // To prevent multiple clicks.\n",
              "          quickchartButtonEl.classList.add('colab-df-spinner');\n",
              "          try {\n",
              "            const charts = await google.colab.kernel.invokeFunction(\n",
              "                'suggestCharts', [key], {});\n",
              "          } catch (error) {\n",
              "            console.error('Error during call to suggestCharts:', error);\n",
              "          }\n",
              "          quickchartButtonEl.classList.remove('colab-df-spinner');\n",
              "          quickchartButtonEl.classList.add('colab-df-quickchart-complete');\n",
              "        }\n",
              "        (() => {\n",
              "          let quickchartButtonEl =\n",
              "            document.querySelector('#df-07af22df-ede7-4e2e-9405-c0c0c98c8cb6 button');\n",
              "          quickchartButtonEl.style.display =\n",
              "            google.colab.kernel.accessAllowed ? 'block' : 'none';\n",
              "        })();\n",
              "      </script>\n",
              "    </div>\n",
              "\n",
              "    </div>\n",
              "  </div>\n"
            ],
            "application/vnd.google.colaboratory.intrinsic+json": {
              "type": "dataframe"
            }
          },
          "metadata": {},
          "execution_count": 19
        }
      ],
      "source": [
        "result_short.posterior"
      ]
    },
    {
      "cell_type": "markdown",
      "metadata": {
        "id": "WST7FNVDTQzp"
      },
      "source": [
        "We can pull out specific parameters that we are interested in"
      ]
    },
    {
      "cell_type": "code",
      "execution_count": 20,
      "metadata": {
        "tags": [],
        "id": "m_77-XyeTQzp",
        "outputId": "97502889-3cb4-43d7-d850-22a63aef856a",
        "colab": {
          "base_uri": "https://localhost:8080/",
          "height": 458
        }
      },
      "outputs": [
        {
          "output_type": "execute_result",
          "data": {
            "text/plain": [
              "0      30.127207\n",
              "1      31.701703\n",
              "2      31.066396\n",
              "3      30.526334\n",
              "4      30.735058\n",
              "         ...    \n",
              "266    31.108869\n",
              "267    31.157610\n",
              "268    31.106858\n",
              "269    31.034944\n",
              "270    31.056217\n",
              "Name: chirp_mass, Length: 271, dtype: float64"
            ],
            "text/html": [
              "<div>\n",
              "<style scoped>\n",
              "    .dataframe tbody tr th:only-of-type {\n",
              "        vertical-align: middle;\n",
              "    }\n",
              "\n",
              "    .dataframe tbody tr th {\n",
              "        vertical-align: top;\n",
              "    }\n",
              "\n",
              "    .dataframe thead th {\n",
              "        text-align: right;\n",
              "    }\n",
              "</style>\n",
              "<table border=\"1\" class=\"dataframe\">\n",
              "  <thead>\n",
              "    <tr style=\"text-align: right;\">\n",
              "      <th></th>\n",
              "      <th>chirp_mass</th>\n",
              "    </tr>\n",
              "  </thead>\n",
              "  <tbody>\n",
              "    <tr>\n",
              "      <th>0</th>\n",
              "      <td>30.127207</td>\n",
              "    </tr>\n",
              "    <tr>\n",
              "      <th>1</th>\n",
              "      <td>31.701703</td>\n",
              "    </tr>\n",
              "    <tr>\n",
              "      <th>2</th>\n",
              "      <td>31.066396</td>\n",
              "    </tr>\n",
              "    <tr>\n",
              "      <th>3</th>\n",
              "      <td>30.526334</td>\n",
              "    </tr>\n",
              "    <tr>\n",
              "      <th>4</th>\n",
              "      <td>30.735058</td>\n",
              "    </tr>\n",
              "    <tr>\n",
              "      <th>...</th>\n",
              "      <td>...</td>\n",
              "    </tr>\n",
              "    <tr>\n",
              "      <th>266</th>\n",
              "      <td>31.108869</td>\n",
              "    </tr>\n",
              "    <tr>\n",
              "      <th>267</th>\n",
              "      <td>31.157610</td>\n",
              "    </tr>\n",
              "    <tr>\n",
              "      <th>268</th>\n",
              "      <td>31.106858</td>\n",
              "    </tr>\n",
              "    <tr>\n",
              "      <th>269</th>\n",
              "      <td>31.034944</td>\n",
              "    </tr>\n",
              "    <tr>\n",
              "      <th>270</th>\n",
              "      <td>31.056217</td>\n",
              "    </tr>\n",
              "  </tbody>\n",
              "</table>\n",
              "<p>271 rows × 1 columns</p>\n",
              "</div><br><label><b>dtype:</b> float64</label>"
            ]
          },
          "metadata": {},
          "execution_count": 20
        }
      ],
      "source": [
        "result_short.posterior[\"chirp_mass\"]"
      ]
    },
    {
      "cell_type": "markdown",
      "metadata": {
        "id": "viPEb30XTQzq"
      },
      "source": [
        "This returned another `pandas` object. If you just want to get the numbers as a numpy array run"
      ]
    },
    {
      "cell_type": "code",
      "execution_count": 21,
      "metadata": {
        "tags": [],
        "id": "ymXaJujTTQzq"
      },
      "outputs": [],
      "source": [
        "Mc = result_short.posterior[\"chirp_mass\"].values"
      ]
    },
    {
      "cell_type": "markdown",
      "metadata": {
        "id": "4K4cuvadTQzr"
      },
      "source": [
        "We can then get some useful quantities such as the 90\\% credible interval"
      ]
    },
    {
      "cell_type": "code",
      "execution_count": 22,
      "metadata": {
        "tags": [],
        "id": "wW_vdQ8hTQzr",
        "outputId": "2cd6dc8b-a723-4419-ca6b-eb39330b0ce5",
        "colab": {
          "base_uri": "https://localhost:8080/"
        }
      },
      "outputs": [
        {
          "output_type": "stream",
          "name": "stdout",
          "text": [
            "Mc = 30.99529538620422 with a 90% C.I = 30.5613543367719 -> 31.388365082088356\n"
          ]
        }
      ],
      "source": [
        "lower_bound = np.quantile(Mc, 0.05)\n",
        "upper_bound = np.quantile(Mc, 0.95)\n",
        "median = np.quantile(Mc, 0.5)\n",
        "print(\"Mc = {} with a 90% C.I = {} -> {}\".format(median, lower_bound, upper_bound))"
      ]
    },
    {
      "cell_type": "markdown",
      "metadata": {
        "id": "Gg9kER1tTQzs"
      },
      "source": [
        "We can then plot the chirp mass in a histogram adding a region to indicate the 90\\% C.I."
      ]
    },
    {
      "cell_type": "code",
      "execution_count": 23,
      "metadata": {
        "tags": [],
        "id": "euYyppK7TQzs",
        "outputId": "cd9fbc75-4c58-4a20-cf9b-98d788fb486e",
        "colab": {
          "base_uri": "https://localhost:8080/",
          "height": 460
        }
      },
      "outputs": [
        {
          "output_type": "display_data",
          "data": {
            "text/plain": [
              "<Figure size 640x480 with 1 Axes>"
            ],
            "image/png": "[encoded data removed]"
          },
          "metadata": {}
        }
      ],
      "source": [
        "fig, ax = plt.subplots()\n",
        "ax.hist(result_short.posterior[\"chirp_mass\"], bins=20)\n",
        "ax.axvspan(lower_bound, upper_bound, color='C1', alpha=0.4)\n",
        "ax.axvline(median, color='C1')\n",
        "ax.set_xlabel(\"chirp mass\")\n",
        "plt.show()"
      ]
    },
    {
      "cell_type": "markdown",
      "metadata": {
        "id": "xw41TdWATQzt"
      },
      "source": [
        "The result object also has in-built methods to make nice plots such as corner plots. You can add the priors if you are only plotting parameters which you sampled in, e.g."
      ]
    },
    {
      "cell_type": "code",
      "execution_count": 24,
      "metadata": {
        "tags": [],
        "id": "Ugwi4aOrTQzt",
        "outputId": "713d6f8f-deea-4c35-8f84-6c177c336873",
        "colab": {
          "base_uri": "https://localhost:8080/",
          "height": 983
        }
      },
      "outputs": [
        {
          "output_type": "execute_result",
          "data": {
            "text/plain": [
              "<Figure size 970x970 with 16 Axes>"
            ],
            "image/png": "[encoded data removed]"
          },
          "metadata": {},
          "execution_count": 24
        }
      ],
      "source": [
        "result_short.plot_corner(parameters=[\"chirp_mass\", \"mass_ratio\", \"geocent_time\", \"phase\"], prior=True)"
      ]
    },
    {
      "cell_type": "markdown",
      "metadata": {
        "id": "IYCcqQKXTQzu"
      },
      "source": [
        "You can also plot lines indicating specific points. Here, we add the values recorded on [GWOSC](https://gwosc.org/events/GW150914/). Notably, these fall outside the bulk of the posterior uncertainty here. This is because we limited our prior to a non-spinning analysis - if instead we ran the full analysis these agree nicely."
      ]
    },
    {
      "cell_type": "code",
      "execution_count": 25,
      "metadata": {
        "Collapsed": "false",
        "colab": {
          "base_uri": "https://localhost:8080/",
          "height": 558
        },
        "id": "SB4AqmTaygvU",
        "outputId": "d9e79631-ee6d-4475-d87f-d5554bf3d49a",
        "tags": []
      },
      "outputs": [
        {
          "output_type": "execute_result",
          "data": {
            "text/plain": [
              "<Figure size 550x550 with 4 Axes>"
            ],
            "image/png": "[encoded data removed]"
          },
          "metadata": {},
          "execution_count": 25
        }
      ],
      "source": [
        "parameters = dict(mass_1=36.2, mass_2=29.1)\n",
        "result_short.plot_corner(parameters)"
      ]
    },
    {
      "cell_type": "markdown",
      "metadata": {
        "id": "3tPIDZfdTQzv"
      },
      "source": [
        "Earlier we discussed the \"correlation\" - in this plot we start to see the correlation between $m_1$ and $m_2$."
      ]
    },
    {
      "cell_type": "markdown",
      "metadata": {
        "id": "1lcS1M56TQzv"
      },
      "source": [
        "### Meta data\n",
        "The result object also stores meta data, like the priors"
      ]
    },
    {
      "cell_type": "code",
      "execution_count": 26,
      "metadata": {
        "tags": [],
        "id": "LkhwhLH5TQzv",
        "outputId": "d3b89eb8-900b-45ec-b9ef-b089db4efece",
        "colab": {
          "base_uri": "https://localhost:8080/"
        }
      },
      "outputs": [
        {
          "output_type": "execute_result",
          "data": {
            "text/plain": [
              "{'chirp_mass': Uniform(minimum=30.0, maximum=32.5, name='chirp_mass', latex_label='$\\\\mathcal{M}$', unit=None, boundary=None),\n",
              " 'mass_ratio': Uniform(minimum=0.5, maximum=1, name='mass_ratio', latex_label='$q$', unit=None, boundary=None),\n",
              " 'phase': Uniform(minimum=0, maximum=6.283185307179586, name='phase', latex_label='$\\\\phi$', unit=None, boundary=None),\n",
              " 'geocent_time': Uniform(minimum=1126259462.3000002, maximum=1126259462.5, name='geocent_time', latex_label='$t_c$', unit=None, boundary=None),\n",
              " 'a_1': DeltaFunction(peak=0.0, name=None, latex_label=None, unit=None),\n",
              " 'a_2': DeltaFunction(peak=0.0, name=None, latex_label=None, unit=None),\n",
              " 'tilt_1': DeltaFunction(peak=0.0, name=None, latex_label=None, unit=None),\n",
              " 'tilt_2': DeltaFunction(peak=0.0, name=None, latex_label=None, unit=None),\n",
              " 'phi_12': DeltaFunction(peak=0.0, name=None, latex_label=None, unit=None),\n",
              " 'phi_jl': DeltaFunction(peak=0.0, name=None, latex_label=None, unit=None),\n",
              " 'dec': DeltaFunction(peak=-1.2232, name=None, latex_label=None, unit=None),\n",
              " 'ra': DeltaFunction(peak=2.19432, name=None, latex_label=None, unit=None),\n",
              " 'theta_jn': DeltaFunction(peak=1.89694, name=None, latex_label=None, unit=None),\n",
              " 'psi': DeltaFunction(peak=0.532268, name=None, latex_label=None, unit=None),\n",
              " 'luminosity_distance': PowerLaw(alpha=2, minimum=50, maximum=2000, name='luminosity_distance', latex_label='$d_L$', unit='Mpc', boundary=None),\n",
              " 'time_jitter': Uniform(minimum=-0.000244140625, maximum=0.000244140625, name='time_jitter', latex_label='$t_j$', unit=None, boundary='periodic')}"
            ]
          },
          "metadata": {},
          "execution_count": 26
        }
      ],
      "source": [
        "result_short.priors"
      ]
    },
    {
      "cell_type": "markdown",
      "metadata": {
        "id": "LsO16LIeTQzw"
      },
      "source": [
        "and details of the analysis itself:"
      ]
    },
    {
      "cell_type": "code",
      "execution_count": 27,
      "metadata": {
        "tags": [],
        "id": "e1rUosxuTQzw",
        "outputId": "3ff8abbb-b458-4e59-93ee-9b47d2540bdd",
        "colab": {
          "base_uri": "https://localhost:8080/"
        }
      },
      "outputs": [
        {
          "output_type": "execute_result",
          "data": {
            "text/plain": [
              "250"
            ]
          },
          "metadata": {},
          "execution_count": 27
        }
      ],
      "source": [
        "result_short.sampler_kwargs[\"nlive\"]"
      ]
    },
    {
      "cell_type": "markdown",
      "metadata": {
        "id": "qEd5dJZ6TQzx"
      },
      "source": [
        "Finally, we can also get out the Bayes factor for the signal vs. Gaussian noise. This is a good indicator of how much the hypothesis that the analyzed segment contains a binary black hole signal is reliable compared to that assuming it just contains noise."
      ]
    },
    {
      "cell_type": "code",
      "execution_count": 28,
      "metadata": {
        "tags": [],
        "id": "4VdG8vtQTQzy",
        "outputId": "04cb7ca7-a8dd-4728-f1ad-169248b38dbf",
        "colab": {
          "base_uri": "https://localhost:8080/"
        }
      },
      "outputs": [
        {
          "output_type": "stream",
          "name": "stdout",
          "text": [
            "ln Bayes factor = 284.5358024473312 +/- 0.20843843863488687\n"
          ]
        }
      ],
      "source": [
        "print(\"ln Bayes factor = {} +/- {}\".format(\n",
        "    result_short.log_bayes_factor, result_short.log_evidence_err))"
      ]
    },
    {
      "cell_type": "markdown",
      "metadata": {
        "editable": true,
        "tags": [],
        "id": "5JGJ-7JzTQzy"
      },
      "source": [
        "## Challenge questions\n",
        "First, let's take a closer look at the result obtained with the run above. What are the means of the chirp mass and mass ratio distributions? What are the medians of the distributions for the components masses? You can use `np.mean` and `np.median` to calculate these.\n",
        "\n",
        "### Optional questions\n",
        "Now let's expand on this example a bit. Rerun the analysis above but change the prior on the distance from a delta function to `bilby.core.prior.PowerLaw(alpha=2., minimum=50., maximum=800., name='luminosity_distance')`. You should also replace `sample='unif'` with `sample=\"rwalk\", nact=1, walks=1` in your call to `bilby.run_sampler` above. This will take a bit longer than the original run, around ~20 minutes (something more if you are running on Colab or MyBinder). You also need to change the `label` in the call to `run_sampler` to avoid over-writing your results.\n",
        "\n",
        "What is the median reported value of the distance posterior? What is the new log Bayes factor for signal vs. Gaussian noise? Don't be alarmed if your results do not match the official LVC results, as these are not rigorous settings."
      ]
    },
    {
      "cell_type": "code",
      "execution_count": 29,
      "metadata": {
        "editable": true,
        "tags": [],
        "id": "AiUKA1tJTQzz",
        "outputId": "488b5054-5cc9-4a98-c99c-27e4364788c8",
        "colab": {
          "base_uri": "https://localhost:8080/"
        }
      },
      "outputs": [
        {
          "output_type": "stream",
          "name": "stdout",
          "text": [
            "31.002492669198787\n"
          ]
        }
      ],
      "source": [
        "print(np.mean(result_short.posterior['chirp_mass']))"
      ]
    },
    {
      "cell_type": "code",
      "source": [
        "print(np.mean(result_short.posterior['mass_ratio']))"
      ],
      "metadata": {
        "id": "GXXL0c6lxiCT",
        "outputId": "a2c9c0a6-0a22-478e-d53d-bc7f384a2d50",
        "colab": {
          "base_uri": "https://localhost:8080/"
        }
      },
      "execution_count": 30,
      "outputs": [
        {
          "output_type": "stream",
          "name": "stdout",
          "text": [
            "0.8721382116238376\n"
          ]
        }
      ]
    },
    {
      "cell_type": "code",
      "source": [
        "print(np.median(result_short.posterior['mass_1']))"
      ],
      "metadata": {
        "id": "5YeTziCkxnE8",
        "outputId": "a60654be-125b-4ce2-adf3-dc54d34c1b62",
        "colab": {
          "base_uri": "https://localhost:8080/"
        }
      },
      "execution_count": 31,
      "outputs": [
        {
          "output_type": "stream",
          "name": "stdout",
          "text": [
            "37.80160849821038\n"
          ]
        }
      ]
    },
    {
      "cell_type": "code",
      "source": [
        "print(np.median(result_short.posterior['mass_2']))"
      ],
      "metadata": {
        "id": "vSndIGnBxuff",
        "outputId": "990391f5-648e-4721-eb6f-fc9dfe244173",
        "colab": {
          "base_uri": "https://localhost:8080/"
        }
      },
      "execution_count": 32,
      "outputs": [
        {
          "output_type": "stream",
          "name": "stdout",
          "text": [
            "33.53623639660415\n"
          ]
        }
      ]
    }
  ],
  "metadata": {
    "colab": {
      "name": "Tuto_3.2_Parameter_estimation_for_compact_object_mergers.ipynb",
      "provenance": []
    },
    "kernelspec": {
      "display_name": "Python 3 (ipykernel)",
      "language": "python",
      "name": "python3"
    },
    "language_info": {
      "codemirror_mode": {
        "name": "ipython",
        "version": 3
      },
      "file_extension": ".py",
      "mimetype": "text/x-python",
      "name": "python",
      "nbconvert_exporter": "python",
      "pygments_lexer": "ipython3",
      "version": "3.11.11"
    },
    "widgets": {
      "application/vnd.jupyter.widget-state+json": {
        "f245b15ee9fa4375833e793118ac85f6": {
          "model_module": "@jupyter-widgets/controls",
          "model_name": "HBoxModel",
          "model_module_version": "1.5.0",
          "state": {
            "_dom_classes": [],
            "_model_module": "@jupyter-widgets/controls",
            "_model_module_version": "1.5.0",
            "_model_name": "HBoxModel",
            "_view_count": null,
            "_view_module": "@jupyter-widgets/controls",
            "_view_module_version": "1.5.0",
            "_view_name": "HBoxView",
            "box_style": "",
            "children": [
              "IPY_MODEL_b7f598c12dfd4126825082f9b55fe72f",
              "IPY_MODEL_92f1baa8fc0b413e9fdd398f51192e96",
              "IPY_MODEL_576739a6716840b9ba4d3162e1fc19af"
            ],
            "layout": "IPY_MODEL_8797ccb3b3d94ab9aedaa91aac760ce0"
          }
        },
        "b7f598c12dfd4126825082f9b55fe72f": {
          "model_module": "@jupyter-widgets/controls",
          "model_name": "HTMLModel",
          "model_module_version": "1.5.0",
          "state": {
            "_dom_classes": [],
            "_model_module": "@jupyter-widgets/controls",
            "_model_module_version": "1.5.0",
            "_model_name": "HTMLModel",
            "_view_count": null,
            "_view_module": "@jupyter-widgets/controls",
            "_view_module_version": "1.5.0",
            "_view_name": "HTMLView",
            "description": "",
            "description_tooltip": null,
            "layout": "IPY_MODEL_60bcc4fbdff6440bb103122630c55d53",
            "placeholder": "​",
            "style": "IPY_MODEL_d447e8024d3a4f9fa5e8785f5621bf04",
            "value": "100%"
          }
        },
        "92f1baa8fc0b413e9fdd398f51192e96": {
          "model_module": "@jupyter-widgets/controls",
          "model_name": "FloatProgressModel",
          "model_module_version": "1.5.0",
          "state": {
            "_dom_classes": [],
            "_model_module": "@jupyter-widgets/controls",
            "_model_module_version": "1.5.0",
            "_model_name": "FloatProgressModel",
            "_view_count": null,
            "_view_module": "@jupyter-widgets/controls",
            "_view_module_version": "1.5.0",
            "_view_name": "ProgressView",
            "bar_style": "success",
            "description": "",
            "description_tooltip": null,
            "layout": "IPY_MODEL_5d240646de0e438bac3e194429313057",
            "max": 400,
            "min": 0,
            "orientation": "horizontal",
            "style": "IPY_MODEL_8cdd261a30824f4daf2488d21c1e302b",
            "value": 400
          }
        },
        "576739a6716840b9ba4d3162e1fc19af": {
          "model_module": "@jupyter-widgets/controls",
          "model_name": "HTMLModel",
          "model_module_version": "1.5.0",
          "state": {
            "_dom_classes": [],
            "_model_module": "@jupyter-widgets/controls",
            "_model_module_version": "1.5.0",
            "_model_name": "HTMLModel",
            "_view_count": null,
            "_view_module": "@jupyter-widgets/controls",
            "_view_module_version": "1.5.0",
            "_view_name": "HTMLView",
            "description": "",
            "description_tooltip": null,
            "layout": "IPY_MODEL_9dd2e14b8d5f43658ffe291b010b70b5",
            "placeholder": "​",
            "style": "IPY_MODEL_dbe9dae1e89f4fd59345fad691246ebd",
            "value": " 400/400 [01:30&lt;00:00,  4.75it/s]"
          }
        },
        "8797ccb3b3d94ab9aedaa91aac760ce0": {
          "model_module": "@jupyter-widgets/base",
          "model_name": "LayoutModel",
          "model_module_version": "1.2.0",
          "state": {
            "_model_module": "@jupyter-widgets/base",
            "_model_module_version": "1.2.0",
            "_model_name": "LayoutModel",
            "_view_count": null,
            "_view_module": "@jupyter-widgets/base",
            "_view_module_version": "1.2.0",
            "_view_name": "LayoutView",
            "align_content": null,
            "align_items": null,
            "align_self": null,
            "border": null,
            "bottom": null,
            "display": null,
            "flex": null,
            "flex_flow": null,
            "grid_area": null,
            "grid_auto_columns": null,
            "grid_auto_flow": null,
            "grid_auto_rows": null,
            "grid_column": null,
            "grid_gap": null,
            "grid_row": null,
            "grid_template_areas": null,
            "grid_template_columns": null,
            "grid_template_rows": null,
            "height": null,
            "justify_content": null,
            "justify_items": null,
            "left": null,
            "margin": null,
            "max_height": null,
            "max_width": null,
            "min_height": null,
            "min_width": null,
            "object_fit": null,
            "object_position": null,
            "order": null,
            "overflow": null,
            "overflow_x": null,
            "overflow_y": null,
            "padding": null,
            "right": null,
            "top": null,
            "visibility": null,
            "width": null
          }
        },
        "60bcc4fbdff6440bb103122630c55d53": {
          "model_module": "@jupyter-widgets/base",
          "model_name": "LayoutModel",
          "model_module_version": "1.2.0",
          "state": {
            "_model_module": "@jupyter-widgets/base",
            "_model_module_version": "1.2.0",
            "_model_name": "LayoutModel",
            "_view_count": null,
            "_view_module": "@jupyter-widgets/base",
            "_view_module_version": "1.2.0",
            "_view_name": "LayoutView",
            "align_content": null,
            "align_items": null,
            "align_self": null,
            "border": null,
            "bottom": null,
            "display": null,
            "flex": null,
            "flex_flow": null,
            "grid_area": null,
            "grid_auto_columns": null,
            "grid_auto_flow": null,
            "grid_auto_rows": null,
            "grid_column": null,
            "grid_gap": null,
            "grid_row": null,
            "grid_template_areas": null,
            "grid_template_columns": null,
            "grid_template_rows": null,
            "height": null,
            "justify_content": null,
            "justify_items": null,
            "left": null,
            "margin": null,
            "max_height": null,
            "max_width": null,
            "min_height": null,
            "min_width": null,
            "object_fit": null,
            "object_position": null,
            "order": null,
            "overflow": null,
            "overflow_x": null,
            "overflow_y": null,
            "padding": null,
            "right": null,
            "top": null,
            "visibility": null,
            "width": null
          }
        },
        "d447e8024d3a4f9fa5e8785f5621bf04": {
          "model_module": "@jupyter-widgets/controls",
          "model_name": "DescriptionStyleModel",
          "model_module_version": "1.5.0",
          "state": {
            "_model_module": "@jupyter-widgets/controls",
            "_model_module_version": "1.5.0",
            "_model_name": "DescriptionStyleModel",
            "_view_count": null,
            "_view_module": "@jupyter-widgets/base",
            "_view_module_version": "1.2.0",
            "_view_name": "StyleView",
            "description_width": ""
          }
        },
        "5d240646de0e438bac3e194429313057": {
          "model_module": "@jupyter-widgets/base",
          "model_name": "LayoutModel",
          "model_module_version": "1.2.0",
          "state": {
            "_model_module": "@jupyter-widgets/base",
            "_model_module_version": "1.2.0",
            "_model_name": "LayoutModel",
            "_view_count": null,
            "_view_module": "@jupyter-widgets/base",
            "_view_module_version": "1.2.0",
            "_view_name": "LayoutView",
            "align_content": null,
            "align_items": null,
            "align_self": null,
            "border": null,
            "bottom": null,
            "display": null,
            "flex": null,
            "flex_flow": null,
            "grid_area": null,
            "grid_auto_columns": null,
            "grid_auto_flow": null,
            "grid_auto_rows": null,
            "grid_column": null,
            "grid_gap": null,
            "grid_row": null,
            "grid_template_areas": null,
            "grid_template_columns": null,
            "grid_template_rows": null,
            "height": null,
            "justify_content": null,
            "justify_items": null,
            "left": null,
            "margin": null,
            "max_height": null,
            "max_width": null,
            "min_height": null,
            "min_width": null,
            "object_fit": null,
            "object_position": null,
            "order": null,
            "overflow": null,
            "overflow_x": null,
            "overflow_y": null,
            "padding": null,
            "right": null,
            "top": null,
            "visibility": null,
            "width": null
          }
        },
        "8cdd261a30824f4daf2488d21c1e302b": {
          "model_module": "@jupyter-widgets/controls",
          "model_name": "ProgressStyleModel",
          "model_module_version": "1.5.0",
          "state": {
            "_model_module": "@jupyter-widgets/controls",
            "_model_module_version": "1.5.0",
            "_model_name": "ProgressStyleModel",
            "_view_count": null,
            "_view_module": "@jupyter-widgets/base",
            "_view_module_version": "1.2.0",
            "_view_name": "StyleView",
            "bar_color": null,
            "description_width": ""
          }
        },
        "9dd2e14b8d5f43658ffe291b010b70b5": {
          "model_module": "@jupyter-widgets/base",
          "model_name": "LayoutModel",
          "model_module_version": "1.2.0",
          "state": {
            "_model_module": "@jupyter-widgets/base",
            "_model_module_version": "1.2.0",
            "_model_name": "LayoutModel",
            "_view_count": null,
            "_view_module": "@jupyter-widgets/base",
            "_view_module_version": "1.2.0",
            "_view_name": "LayoutView",
            "align_content": null,
            "align_items": null,
            "align_self": null,
            "border": null,
            "bottom": null,
            "display": null,
            "flex": null,
            "flex_flow": null,
            "grid_area": null,
            "grid_auto_columns": null,
            "grid_auto_flow": null,
            "grid_auto_rows": null,
            "grid_column": null,
            "grid_gap": null,
            "grid_row": null,
            "grid_template_areas": null,
            "grid_template_columns": null,
            "grid_template_rows": null,
            "height": null,
            "justify_content": null,
            "justify_items": null,
            "left": null,
            "margin": null,
            "max_height": null,
            "max_width": null,
            "min_height": null,
            "min_width": null,
            "object_fit": null,
            "object_position": null,
            "order": null,
            "overflow": null,
            "overflow_x": null,
            "overflow_y": null,
            "padding": null,
            "right": null,
            "top": null,
            "visibility": null,
            "width": null
          }
        },
        "dbe9dae1e89f4fd59345fad691246ebd": {
          "model_module": "@jupyter-widgets/controls",
          "model_name": "DescriptionStyleModel",
          "model_module_version": "1.5.0",
          "state": {
            "_model_module": "@jupyter-widgets/controls",
            "_model_module_version": "1.5.0",
            "_model_name": "DescriptionStyleModel",
            "_view_count": null,
            "_view_module": "@jupyter-widgets/base",
            "_view_module_version": "1.2.0",
            "_view_name": "StyleView",
            "description_width": ""
          }
        },
        "7342ef7576014e6099c3b76a4098810d": {
          "model_module": "@jupyter-widgets/controls",
          "model_name": "HBoxModel",
          "model_module_version": "1.5.0",
          "state": {
            "_dom_classes": [],
            "_model_module": "@jupyter-widgets/controls",
            "_model_module_version": "1.5.0",
            "_model_name": "HBoxModel",
            "_view_count": null,
            "_view_module": "@jupyter-widgets/controls",
            "_view_module_version": "1.5.0",
            "_view_name": "HBoxView",
            "box_style": "",
            "children": [
              "IPY_MODEL_b0fc40bc07064a268cf6ddee7bd777d5",
              "IPY_MODEL_2dd766f5f8b14649b7afe6f18c08afb8",
              "IPY_MODEL_a6628d9614c94d8fb50254057eaee9b9"
            ],
            "layout": "IPY_MODEL_561f5d98ffc14fe7a696d414ab434abc"
          }
        },
        "b0fc40bc07064a268cf6ddee7bd777d5": {
          "model_module": "@jupyter-widgets/controls",
          "model_name": "HTMLModel",
          "model_module_version": "1.5.0",
          "state": {
            "_dom_classes": [],
            "_model_module": "@jupyter-widgets/controls",
            "_model_module_version": "1.5.0",
            "_model_name": "HTMLModel",
            "_view_count": null,
            "_view_module": "@jupyter-widgets/controls",
            "_view_module_version": "1.5.0",
            "_view_name": "HTMLView",
            "description": "",
            "description_tooltip": null,
            "layout": "IPY_MODEL_abc6786f177b46a0ad0e38f70d23da00",
            "placeholder": "​",
            "style": "IPY_MODEL_39105612d22c4999b25efa1531d0a9c4",
            "value": ""
          }
        },
        "2dd766f5f8b14649b7afe6f18c08afb8": {
          "model_module": "@jupyter-widgets/controls",
          "model_name": "FloatProgressModel",
          "model_module_version": "1.5.0",
          "state": {
            "_dom_classes": [],
            "_model_module": "@jupyter-widgets/controls",
            "_model_module_version": "1.5.0",
            "_model_name": "FloatProgressModel",
            "_view_count": null,
            "_view_module": "@jupyter-widgets/controls",
            "_view_module_version": "1.5.0",
            "_view_name": "ProgressView",
            "bar_style": "success",
            "description": "",
            "description_tooltip": null,
            "layout": "IPY_MODEL_b2cbca697b1847d98505ad5240b7edc1",
            "max": 1,
            "min": 0,
            "orientation": "horizontal",
            "style": "IPY_MODEL_9a2580b1ad06454e85adf04961b19eff",
            "value": 1
          }
        },
        "a6628d9614c94d8fb50254057eaee9b9": {
          "model_module": "@jupyter-widgets/controls",
          "model_name": "HTMLModel",
          "model_module_version": "1.5.0",
          "state": {
            "_dom_classes": [],
            "_model_module": "@jupyter-widgets/controls",
            "_model_module_version": "1.5.0",
            "_model_name": "HTMLModel",
            "_view_count": null,
            "_view_module": "@jupyter-widgets/controls",
            "_view_module_version": "1.5.0",
            "_view_name": "HTMLView",
            "description": "",
            "description_tooltip": null,
            "layout": "IPY_MODEL_d237c345534d4aa492748f40caaa160e",
            "placeholder": "​",
            "style": "IPY_MODEL_ace9478ad19a497c9e394b1c8178ceab",
            "value": " 751/? [05:42&lt;00:00,  1.24s/it, bound:0 nc:  1 ncall:5.0e+03 eff:21.0% logz-ratio=284.54+/-0.13 dlogz:0.003&gt;1]"
          }
        },
        "561f5d98ffc14fe7a696d414ab434abc": {
          "model_module": "@jupyter-widgets/base",
          "model_name": "LayoutModel",
          "model_module_version": "1.2.0",
          "state": {
            "_model_module": "@jupyter-widgets/base",
            "_model_module_version": "1.2.0",
            "_model_name": "LayoutModel",
            "_view_count": null,
            "_view_module": "@jupyter-widgets/base",
            "_view_module_version": "1.2.0",
            "_view_name": "LayoutView",
            "align_content": null,
            "align_items": null,
            "align_self": null,
            "border": null,
            "bottom": null,
            "display": null,
            "flex": null,
            "flex_flow": null,
            "grid_area": null,
            "grid_auto_columns": null,
            "grid_auto_flow": null,
            "grid_auto_rows": null,
            "grid_column": null,
            "grid_gap": null,
            "grid_row": null,
            "grid_template_areas": null,
            "grid_template_columns": null,
            "grid_template_rows": null,
            "height": null,
            "justify_content": null,
            "justify_items": null,
            "left": null,
            "margin": null,
            "max_height": null,
            "max_width": null,
            "min_height": null,
            "min_width": null,
            "object_fit": null,
            "object_position": null,
            "order": null,
            "overflow": null,
            "overflow_x": null,
            "overflow_y": null,
            "padding": null,
            "right": null,
            "top": null,
            "visibility": null,
            "width": null
          }
        },
        "abc6786f177b46a0ad0e38f70d23da00": {
          "model_module": "@jupyter-widgets/base",
          "model_name": "LayoutModel",
          "model_module_version": "1.2.0",
          "state": {
            "_model_module": "@jupyter-widgets/base",
            "_model_module_version": "1.2.0",
            "_model_name": "LayoutModel",
            "_view_count": null,
            "_view_module": "@jupyter-widgets/base",
            "_view_module_version": "1.2.0",
            "_view_name": "LayoutView",
            "align_content": null,
            "align_items": null,
            "align_self": null,
            "border": null,
            "bottom": null,
            "display": null,
            "flex": null,
            "flex_flow": null,
            "grid_area": null,
            "grid_auto_columns": null,
            "grid_auto_flow": null,
            "grid_auto_rows": null,
            "grid_column": null,
            "grid_gap": null,
            "grid_row": null,
            "grid_template_areas": null,
            "grid_template_columns": null,
            "grid_template_rows": null,
            "height": null,
            "justify_content": null,
            "justify_items": null,
            "left": null,
            "margin": null,
            "max_height": null,
            "max_width": null,
            "min_height": null,
            "min_width": null,
            "object_fit": null,
            "object_position": null,
            "order": null,
            "overflow": null,
            "overflow_x": null,
            "overflow_y": null,
            "padding": null,
            "right": null,
            "top": null,
            "visibility": null,
            "width": null
          }
        },
        "39105612d22c4999b25efa1531d0a9c4": {
          "model_module": "@jupyter-widgets/controls",
          "model_name": "DescriptionStyleModel",
          "model_module_version": "1.5.0",
          "state": {
            "_model_module": "@jupyter-widgets/controls",
            "_model_module_version": "1.5.0",
            "_model_name": "DescriptionStyleModel",
            "_view_count": null,
            "_view_module": "@jupyter-widgets/base",
            "_view_module_version": "1.2.0",
            "_view_name": "StyleView",
            "description_width": ""
          }
        },
        "b2cbca697b1847d98505ad5240b7edc1": {
          "model_module": "@jupyter-widgets/base",
          "model_name": "LayoutModel",
          "model_module_version": "1.2.0",
          "state": {
            "_model_module": "@jupyter-widgets/base",
            "_model_module_version": "1.2.0",
            "_model_name": "LayoutModel",
            "_view_count": null,
            "_view_module": "@jupyter-widgets/base",
            "_view_module_version": "1.2.0",
            "_view_name": "LayoutView",
            "align_content": null,
            "align_items": null,
            "align_self": null,
            "border": null,
            "bottom": null,
            "display": null,
            "flex": null,
            "flex_flow": null,
            "grid_area": null,
            "grid_auto_columns": null,
            "grid_auto_flow": null,
            "grid_auto_rows": null,
            "grid_column": null,
            "grid_gap": null,
            "grid_row": null,
            "grid_template_areas": null,
            "grid_template_columns": null,
            "grid_template_rows": null,
            "height": null,
            "justify_content": null,
            "justify_items": null,
            "left": null,
            "margin": null,
            "max_height": null,
            "max_width": null,
            "min_height": null,
            "min_width": null,
            "object_fit": null,
            "object_position": null,
            "order": null,
            "overflow": null,
            "overflow_x": null,
            "overflow_y": null,
            "padding": null,
            "right": null,
            "top": null,
            "visibility": null,
            "width": "20px"
          }
        },
        "9a2580b1ad06454e85adf04961b19eff": {
          "model_module": "@jupyter-widgets/controls",
          "model_name": "ProgressStyleModel",
          "model_module_version": "1.5.0",
          "state": {
            "_model_module": "@jupyter-widgets/controls",
            "_model_module_version": "1.5.0",
            "_model_name": "ProgressStyleModel",
            "_view_count": null,
            "_view_module": "@jupyter-widgets/base",
            "_view_module_version": "1.2.0",
            "_view_name": "StyleView",
            "bar_color": null,
            "description_width": ""
          }
        },
        "d237c345534d4aa492748f40caaa160e": {
          "model_module": "@jupyter-widgets/base",
          "model_name": "LayoutModel",
          "model_module_version": "1.2.0",
          "state": {
            "_model_module": "@jupyter-widgets/base",
            "_model_module_version": "1.2.0",
            "_model_name": "LayoutModel",
            "_view_count": null,
            "_view_module": "@jupyter-widgets/base",
            "_view_module_version": "1.2.0",
            "_view_name": "LayoutView",
            "align_content": null,
            "align_items": null,
            "align_self": null,
            "border": null,
            "bottom": null,
            "display": null,
            "flex": null,
            "flex_flow": null,
            "grid_area": null,
            "grid_auto_columns": null,
            "grid_auto_flow": null,
            "grid_auto_rows": null,
            "grid_column": null,
            "grid_gap": null,
            "grid_row": null,
            "grid_template_areas": null,
            "grid_template_columns": null,
            "grid_template_rows": null,
            "height": null,
            "justify_content": null,
            "justify_items": null,
            "left": null,
            "margin": null,
            "max_height": null,
            "max_width": null,
            "min_height": null,
            "min_width": null,
            "object_fit": null,
            "object_position": null,
            "order": null,
            "overflow": null,
            "overflow_x": null,
            "overflow_y": null,
            "padding": null,
            "right": null,
            "top": null,
            "visibility": null,
            "width": null
          }
        },
        "ace9478ad19a497c9e394b1c8178ceab": {
          "model_module": "@jupyter-widgets/controls",
          "model_name": "DescriptionStyleModel",
          "model_module_version": "1.5.0",
          "state": {
            "_model_module": "@jupyter-widgets/controls",
            "_model_module_version": "1.5.0",
            "_model_name": "DescriptionStyleModel",
            "_view_count": null,
            "_view_module": "@jupyter-widgets/base",
            "_view_module_version": "1.2.0",
            "_view_name": "StyleView",
            "description_width": ""
          }
        },
        "ccb82523c9344522999ce2986af2195d": {
          "model_module": "@jupyter-widgets/controls",
          "model_name": "HBoxModel",
          "model_module_version": "1.5.0",
          "state": {
            "_dom_classes": [],
            "_model_module": "@jupyter-widgets/controls",
            "_model_module_version": "1.5.0",
            "_model_name": "HBoxModel",
            "_view_count": null,
            "_view_module": "@jupyter-widgets/controls",
            "_view_module_version": "1.5.0",
            "_view_name": "HBoxView",
            "box_style": "",
            "children": [
              "IPY_MODEL_1d347cfdb3244cf1937ab5534b75b6ac",
              "IPY_MODEL_bf5c41ee8b0c432bb90d92bad75448e3",
              "IPY_MODEL_145a3ea3ba424f15ae612b5e6f21971f"
            ],
            "layout": "IPY_MODEL_bfe09671d65b4107a7eb4940a17caf28"
          }
        },
        "1d347cfdb3244cf1937ab5534b75b6ac": {
          "model_module": "@jupyter-widgets/controls",
          "model_name": "HTMLModel",
          "model_module_version": "1.5.0",
          "state": {
            "_dom_classes": [],
            "_model_module": "@jupyter-widgets/controls",
            "_model_module_version": "1.5.0",
            "_model_name": "HTMLModel",
            "_view_count": null,
            "_view_module": "@jupyter-widgets/controls",
            "_view_module_version": "1.5.0",
            "_view_name": "HTMLView",
            "description": "",
            "description_tooltip": null,
            "layout": "IPY_MODEL_b037a79e246e4868aebad737c57f0718",
            "placeholder": "​",
            "style": "IPY_MODEL_44812a78207343d9ab883d772d4911f4",
            "value": "100%"
          }
        },
        "bf5c41ee8b0c432bb90d92bad75448e3": {
          "model_module": "@jupyter-widgets/controls",
          "model_name": "FloatProgressModel",
          "model_module_version": "1.5.0",
          "state": {
            "_dom_classes": [],
            "_model_module": "@jupyter-widgets/controls",
            "_model_module_version": "1.5.0",
            "_model_name": "FloatProgressModel",
            "_view_count": null,
            "_view_module": "@jupyter-widgets/controls",
            "_view_module_version": "1.5.0",
            "_view_name": "ProgressView",
            "bar_style": "success",
            "description": "",
            "description_tooltip": null,
            "layout": "IPY_MODEL_c00cc06a9a08424a989494e292b162b8",
            "max": 271,
            "min": 0,
            "orientation": "horizontal",
            "style": "IPY_MODEL_36b5c3ee880a4f208fb7956f09a82643",
            "value": 271
          }
        },
        "145a3ea3ba424f15ae612b5e6f21971f": {
          "model_module": "@jupyter-widgets/controls",
          "model_name": "HTMLModel",
          "model_module_version": "1.5.0",
          "state": {
            "_dom_classes": [],
            "_model_module": "@jupyter-widgets/controls",
            "_model_module_version": "1.5.0",
            "_model_name": "HTMLModel",
            "_view_count": null,
            "_view_module": "@jupyter-widgets/controls",
            "_view_module_version": "1.5.0",
            "_view_name": "HTMLView",
            "description": "",
            "description_tooltip": null,
            "layout": "IPY_MODEL_df4f8ceba98f4e80be0a2f21b35e0d12",
            "placeholder": "​",
            "style": "IPY_MODEL_9feb42a4829f409c95197d54b414fc2d",
            "value": " 271/271 [00:20&lt;00:00, 13.14it/s]"
          }
        },
        "bfe09671d65b4107a7eb4940a17caf28": {
          "model_module": "@jupyter-widgets/base",
          "model_name": "LayoutModel",
          "model_module_version": "1.2.0",
          "state": {
            "_model_module": "@jupyter-widgets/base",
            "_model_module_version": "1.2.0",
            "_model_name": "LayoutModel",
            "_view_count": null,
            "_view_module": "@jupyter-widgets/base",
            "_view_module_version": "1.2.0",
            "_view_name": "LayoutView",
            "align_content": null,
            "align_items": null,
            "align_self": null,
            "border": null,
            "bottom": null,
            "display": null,
            "flex": null,
            "flex_flow": null,
            "grid_area": null,
            "grid_auto_columns": null,
            "grid_auto_flow": null,
            "grid_auto_rows": null,
            "grid_column": null,
            "grid_gap": null,
            "grid_row": null,
            "grid_template_areas": null,
            "grid_template_columns": null,
            "grid_template_rows": null,
            "height": null,
            "justify_content": null,
            "justify_items": null,
            "left": null,
            "margin": null,
            "max_height": null,
            "max_width": null,
            "min_height": null,
            "min_width": null,
            "object_fit": null,
            "object_position": null,
            "order": null,
            "overflow": null,
            "overflow_x": null,
            "overflow_y": null,
            "padding": null,
            "right": null,
            "top": null,
            "visibility": null,
            "width": null
          }
        },
        "b037a79e246e4868aebad737c57f0718": {
          "model_module": "@jupyter-widgets/base",
          "model_name": "LayoutModel",
          "model_module_version": "1.2.0",
          "state": {
            "_model_module": "@jupyter-widgets/base",
            "_model_module_version": "1.2.0",
            "_model_name": "LayoutModel",
            "_view_count": null,
            "_view_module": "@jupyter-widgets/base",
            "_view_module_version": "1.2.0",
            "_view_name": "LayoutView",
            "align_content": null,
            "align_items": null,
            "align_self": null,
            "border": null,
            "bottom": null,
            "display": null,
            "flex": null,
            "flex_flow": null,
            "grid_area": null,
            "grid_auto_columns": null,
            "grid_auto_flow": null,
            "grid_auto_rows": null,
            "grid_column": null,
            "grid_gap": null,
            "grid_row": null,
            "grid_template_areas": null,
            "grid_template_columns": null,
            "grid_template_rows": null,
            "height": null,
            "justify_content": null,
            "justify_items": null,
            "left": null,
            "margin": null,
            "max_height": null,
            "max_width": null,
            "min_height": null,
            "min_width": null,
            "object_fit": null,
            "object_position": null,
            "order": null,
            "overflow": null,
            "overflow_x": null,
            "overflow_y": null,
            "padding": null,
            "right": null,
            "top": null,
            "visibility": null,
            "width": null
          }
        },
        "44812a78207343d9ab883d772d4911f4": {
          "model_module": "@jupyter-widgets/controls",
          "model_name": "DescriptionStyleModel",
          "model_module_version": "1.5.0",
          "state": {
            "_model_module": "@jupyter-widgets/controls",
            "_model_module_version": "1.5.0",
            "_model_name": "DescriptionStyleModel",
            "_view_count": null,
            "_view_module": "@jupyter-widgets/base",
            "_view_module_version": "1.2.0",
            "_view_name": "StyleView",
            "description_width": ""
          }
        },
        "c00cc06a9a08424a989494e292b162b8": {
          "model_module": "@jupyter-widgets/base",
          "model_name": "LayoutModel",
          "model_module_version": "1.2.0",
          "state": {
            "_model_module": "@jupyter-widgets/base",
            "_model_module_version": "1.2.0",
            "_model_name": "LayoutModel",
            "_view_count": null,
            "_view_module": "@jupyter-widgets/base",
            "_view_module_version": "1.2.0",
            "_view_name": "LayoutView",
            "align_content": null,
            "align_items": null,
            "align_self": null,
            "border": null,
            "bottom": null,
            "display": null,
            "flex": null,
            "flex_flow": null,
            "grid_area": null,
            "grid_auto_columns": null,
            "grid_auto_flow": null,
            "grid_auto_rows": null,
            "grid_column": null,
            "grid_gap": null,
            "grid_row": null,
            "grid_template_areas": null,
            "grid_template_columns": null,
            "grid_template_rows": null,
            "height": null,
            "justify_content": null,
            "justify_items": null,
            "left": null,
            "margin": null,
            "max_height": null,
            "max_width": null,
            "min_height": null,
            "min_width": null,
            "object_fit": null,
            "object_position": null,
            "order": null,
            "overflow": null,
            "overflow_x": null,
            "overflow_y": null,
            "padding": null,
            "right": null,
            "top": null,
            "visibility": null,
            "width": null
          }
        },
        "36b5c3ee880a4f208fb7956f09a82643": {
          "model_module": "@jupyter-widgets/controls",
          "model_name": "ProgressStyleModel",
          "model_module_version": "1.5.0",
          "state": {
            "_model_module": "@jupyter-widgets/controls",
            "_model_module_version": "1.5.0",
            "_model_name": "ProgressStyleModel",
            "_view_count": null,
            "_view_module": "@jupyter-widgets/base",
            "_view_module_version": "1.2.0",
            "_view_name": "StyleView",
            "bar_color": null,
            "description_width": ""
          }
        },
        "df4f8ceba98f4e80be0a2f21b35e0d12": {
          "model_module": "@jupyter-widgets/base",
          "model_name": "LayoutModel",
          "model_module_version": "1.2.0",
          "state": {
            "_model_module": "@jupyter-widgets/base",
            "_model_module_version": "1.2.0",
            "_model_name": "LayoutModel",
            "_view_count": null,
            "_view_module": "@jupyter-widgets/base",
            "_view_module_version": "1.2.0",
            "_view_name": "LayoutView",
            "align_content": null,
            "align_items": null,
            "align_self": null,
            "border": null,
            "bottom": null,
            "display": null,
            "flex": null,
            "flex_flow": null,
            "grid_area": null,
            "grid_auto_columns": null,
            "grid_auto_flow": null,
            "grid_auto_rows": null,
            "grid_column": null,
            "grid_gap": null,
            "grid_row": null,
            "grid_template_areas": null,
            "grid_template_columns": null,
            "grid_template_rows": null,
            "height": null,
            "justify_content": null,
            "justify_items": null,
            "left": null,
            "margin": null,
            "max_height": null,
            "max_width": null,
            "min_height": null,
            "min_width": null,
            "object_fit": null,
            "object_position": null,
            "order": null,
            "overflow": null,
            "overflow_x": null,
            "overflow_y": null,
            "padding": null,
            "right": null,
            "top": null,
            "visibility": null,
            "width": null
          }
        },
        "9feb42a4829f409c95197d54b414fc2d": {
          "model_module": "@jupyter-widgets/controls",
          "model_name": "DescriptionStyleModel",
          "model_module_version": "1.5.0",
          "state": {
            "_model_module": "@jupyter-widgets/controls",
            "_model_module_version": "1.5.0",
            "_model_name": "DescriptionStyleModel",
            "_view_count": null,
            "_view_module": "@jupyter-widgets/base",
            "_view_module_version": "1.2.0",
            "_view_name": "StyleView",
            "description_width": ""
          }
        },
        "8beabea32f544c6aa32e96841bdb54ff": {
          "model_module": "@jupyter-widgets/controls",
          "model_name": "HBoxModel",
          "model_module_version": "1.5.0",
          "state": {
            "_dom_classes": [],
            "_model_module": "@jupyter-widgets/controls",
            "_model_module_version": "1.5.0",
            "_model_name": "HBoxModel",
            "_view_count": null,
            "_view_module": "@jupyter-widgets/controls",
            "_view_module_version": "1.5.0",
            "_view_name": "HBoxView",
            "box_style": "",
            "children": [
              "IPY_MODEL_efa212aec82f49b8b1ca1d3fa88a61b3",
              "IPY_MODEL_e7356d0a46ca4ef094d93e803cecfe3f",
              "IPY_MODEL_fe31637c92ce4933a3e1a25ca1207d01"
            ],
            "layout": "IPY_MODEL_9b804be8d4cb4469849f268f8f53bb54"
          }
        },
        "efa212aec82f49b8b1ca1d3fa88a61b3": {
          "model_module": "@jupyter-widgets/controls",
          "model_name": "HTMLModel",
          "model_module_version": "1.5.0",
          "state": {
            "_dom_classes": [],
            "_model_module": "@jupyter-widgets/controls",
            "_model_module_version": "1.5.0",
            "_model_name": "HTMLModel",
            "_view_count": null,
            "_view_module": "@jupyter-widgets/controls",
            "_view_module_version": "1.5.0",
            "_view_name": "HTMLView",
            "description": "",
            "description_tooltip": null,
            "layout": "IPY_MODEL_fd1eb0518d844d93bf1798f9f4af42f3",
            "placeholder": "​",
            "style": "IPY_MODEL_89169763bccf41259252a2bb2798127e",
            "value": "100%"
          }
        },
        "e7356d0a46ca4ef094d93e803cecfe3f": {
          "model_module": "@jupyter-widgets/controls",
          "model_name": "FloatProgressModel",
          "model_module_version": "1.5.0",
          "state": {
            "_dom_classes": [],
            "_model_module": "@jupyter-widgets/controls",
            "_model_module_version": "1.5.0",
            "_model_name": "FloatProgressModel",
            "_view_count": null,
            "_view_module": "@jupyter-widgets/controls",
            "_view_module_version": "1.5.0",
            "_view_name": "ProgressView",
            "bar_style": "success",
            "description": "",
            "description_tooltip": null,
            "layout": "IPY_MODEL_7665283853aa4be79456f0405e9082e9",
            "max": 271,
            "min": 0,
            "orientation": "horizontal",
            "style": "IPY_MODEL_d31bbd7d5062464d8de8eeac27fb4c66",
            "value": 271
          }
        },
        "fe31637c92ce4933a3e1a25ca1207d01": {
          "model_module": "@jupyter-widgets/controls",
          "model_name": "HTMLModel",
          "model_module_version": "1.5.0",
          "state": {
            "_dom_classes": [],
            "_model_module": "@jupyter-widgets/controls",
            "_model_module_version": "1.5.0",
            "_model_name": "HTMLModel",
            "_view_count": null,
            "_view_module": "@jupyter-widgets/controls",
            "_view_module_version": "1.5.0",
            "_view_name": "HTMLView",
            "description": "",
            "description_tooltip": null,
            "layout": "IPY_MODEL_317030e412594544a41713205cf12f9a",
            "placeholder": "​",
            "style": "IPY_MODEL_03b5ff5168d24ad4b8e63d4ef17104b4",
            "value": " 271/271 [00:27&lt;00:00, 10.24it/s]"
          }
        },
        "9b804be8d4cb4469849f268f8f53bb54": {
          "model_module": "@jupyter-widgets/base",
          "model_name": "LayoutModel",
          "model_module_version": "1.2.0",
          "state": {
            "_model_module": "@jupyter-widgets/base",
            "_model_module_version": "1.2.0",
            "_model_name": "LayoutModel",
            "_view_count": null,
            "_view_module": "@jupyter-widgets/base",
            "_view_module_version": "1.2.0",
            "_view_name": "LayoutView",
            "align_content": null,
            "align_items": null,
            "align_self": null,
            "border": null,
            "bottom": null,
            "display": null,
            "flex": null,
            "flex_flow": null,
            "grid_area": null,
            "grid_auto_columns": null,
            "grid_auto_flow": null,
            "grid_auto_rows": null,
            "grid_column": null,
            "grid_gap": null,
            "grid_row": null,
            "grid_template_areas": null,
            "grid_template_columns": null,
            "grid_template_rows": null,
            "height": null,
            "justify_content": null,
            "justify_items": null,
            "left": null,
            "margin": null,
            "max_height": null,
            "max_width": null,
            "min_height": null,
            "min_width": null,
            "object_fit": null,
            "object_position": null,
            "order": null,
            "overflow": null,
            "overflow_x": null,
            "overflow_y": null,
            "padding": null,
            "right": null,
            "top": null,
            "visibility": null,
            "width": null
          }
        },
        "fd1eb0518d844d93bf1798f9f4af42f3": {
          "model_module": "@jupyter-widgets/base",
          "model_name": "LayoutModel",
          "model_module_version": "1.2.0",
          "state": {
            "_model_module": "@jupyter-widgets/base",
            "_model_module_version": "1.2.0",
            "_model_name": "LayoutModel",
            "_view_count": null,
            "_view_module": "@jupyter-widgets/base",
            "_view_module_version": "1.2.0",
            "_view_name": "LayoutView",
            "align_content": null,
            "align_items": null,
            "align_self": null,
            "border": null,
            "bottom": null,
            "display": null,
            "flex": null,
            "flex_flow": null,
            "grid_area": null,
            "grid_auto_columns": null,
            "grid_auto_flow": null,
            "grid_auto_rows": null,
            "grid_column": null,
            "grid_gap": null,
            "grid_row": null,
            "grid_template_areas": null,
            "grid_template_columns": null,
            "grid_template_rows": null,
            "height": null,
            "justify_content": null,
            "justify_items": null,
            "left": null,
            "margin": null,
            "max_height": null,
            "max_width": null,
            "min_height": null,
            "min_width": null,
            "object_fit": null,
            "object_position": null,
            "order": null,
            "overflow": null,
            "overflow_x": null,
            "overflow_y": null,
            "padding": null,
            "right": null,
            "top": null,
            "visibility": null,
            "width": null
          }
        },
        "89169763bccf41259252a2bb2798127e": {
          "model_module": "@jupyter-widgets/controls",
          "model_name": "DescriptionStyleModel",
          "model_module_version": "1.5.0",
          "state": {
            "_model_module": "@jupyter-widgets/controls",
            "_model_module_version": "1.5.0",
            "_model_name": "DescriptionStyleModel",
            "_view_count": null,
            "_view_module": "@jupyter-widgets/base",
            "_view_module_version": "1.2.0",
            "_view_name": "StyleView",
            "description_width": ""
          }
        },
        "7665283853aa4be79456f0405e9082e9": {
          "model_module": "@jupyter-widgets/base",
          "model_name": "LayoutModel",
          "model_module_version": "1.2.0",
          "state": {
            "_model_module": "@jupyter-widgets/base",
            "_model_module_version": "1.2.0",
            "_model_name": "LayoutModel",
            "_view_count": null,
            "_view_module": "@jupyter-widgets/base",
            "_view_module_version": "1.2.0",
            "_view_name": "LayoutView",
            "align_content": null,
            "align_items": null,
            "align_self": null,
            "border": null,
            "bottom": null,
            "display": null,
            "flex": null,
            "flex_flow": null,
            "grid_area": null,
            "grid_auto_columns": null,
            "grid_auto_flow": null,
            "grid_auto_rows": null,
            "grid_column": null,
            "grid_gap": null,
            "grid_row": null,
            "grid_template_areas": null,
            "grid_template_columns": null,
            "grid_template_rows": null,
            "height": null,
            "justify_content": null,
            "justify_items": null,
            "left": null,
            "margin": null,
            "max_height": null,
            "max_width": null,
            "min_height": null,
            "min_width": null,
            "object_fit": null,
            "object_position": null,
            "order": null,
            "overflow": null,
            "overflow_x": null,
            "overflow_y": null,
            "padding": null,
            "right": null,
            "top": null,
            "visibility": null,
            "width": null
          }
        },
        "d31bbd7d5062464d8de8eeac27fb4c66": {
          "model_module": "@jupyter-widgets/controls",
          "model_name": "ProgressStyleModel",
          "model_module_version": "1.5.0",
          "state": {
            "_model_module": "@jupyter-widgets/controls",
            "_model_module_version": "1.5.0",
            "_model_name": "ProgressStyleModel",
            "_view_count": null,
            "_view_module": "@jupyter-widgets/base",
            "_view_module_version": "1.2.0",
            "_view_name": "StyleView",
            "bar_color": null,
            "description_width": ""
          }
        },
        "317030e412594544a41713205cf12f9a": {
          "model_module": "@jupyter-widgets/base",
          "model_name": "LayoutModel",
          "model_module_version": "1.2.0",
          "state": {
            "_model_module": "@jupyter-widgets/base",
            "_model_module_version": "1.2.0",
            "_model_name": "LayoutModel",
            "_view_count": null,
            "_view_module": "@jupyter-widgets/base",
            "_view_module_version": "1.2.0",
            "_view_name": "LayoutView",
            "align_content": null,
            "align_items": null,
            "align_self": null,
            "border": null,
            "bottom": null,
            "display": null,
            "flex": null,
            "flex_flow": null,
            "grid_area": null,
            "grid_auto_columns": null,
            "grid_auto_flow": null,
            "grid_auto_rows": null,
            "grid_column": null,
            "grid_gap": null,
            "grid_row": null,
            "grid_template_areas": null,
            "grid_template_columns": null,
            "grid_template_rows": null,
            "height": null,
            "justify_content": null,
            "justify_items": null,
            "left": null,
            "margin": null,
            "max_height": null,
            "max_width": null,
            "min_height": null,
            "min_width": null,
            "object_fit": null,
            "object_position": null,
            "order": null,
            "overflow": null,
            "overflow_x": null,
            "overflow_y": null,
            "padding": null,
            "right": null,
            "top": null,
            "visibility": null,
            "width": null
          }
        },
        "03b5ff5168d24ad4b8e63d4ef17104b4": {
          "model_module": "@jupyter-widgets/controls",
          "model_name": "DescriptionStyleModel",
          "model_module_version": "1.5.0",
          "state": {
            "_model_module": "@jupyter-widgets/controls",
            "_model_module_version": "1.5.0",
            "_model_name": "DescriptionStyleModel",
            "_view_count": null,
            "_view_module": "@jupyter-widgets/base",
            "_view_module_version": "1.2.0",
            "_view_name": "StyleView",
            "description_width": ""
          }
        },
        "e089043d875c472d9ddd9f01c16bd81e": {
          "model_module": "@jupyter-widgets/controls",
          "model_name": "HBoxModel",
          "model_module_version": "1.5.0",
          "state": {
            "_dom_classes": [],
            "_model_module": "@jupyter-widgets/controls",
            "_model_module_version": "1.5.0",
            "_model_name": "HBoxModel",
            "_view_count": null,
            "_view_module": "@jupyter-widgets/controls",
            "_view_module_version": "1.5.0",
            "_view_name": "HBoxView",
            "box_style": "",
            "children": [
              "IPY_MODEL_9293d78598164d10bdfc2e47e8c2db32",
              "IPY_MODEL_281a9d9d502f4b089babb48fc8e9197e",
              "IPY_MODEL_570619d8f5c6428bb715b9546eadc492"
            ],
            "layout": "IPY_MODEL_34f5747b2eaf4ed3b7184ed4211a342b"
          }
        },
        "9293d78598164d10bdfc2e47e8c2db32": {
          "model_module": "@jupyter-widgets/controls",
          "model_name": "HTMLModel",
          "model_module_version": "1.5.0",
          "state": {
            "_dom_classes": [],
            "_model_module": "@jupyter-widgets/controls",
            "_model_module_version": "1.5.0",
            "_model_name": "HTMLModel",
            "_view_count": null,
            "_view_module": "@jupyter-widgets/controls",
            "_view_module_version": "1.5.0",
            "_view_name": "HTMLView",
            "description": "",
            "description_tooltip": null,
            "layout": "IPY_MODEL_c1f6ebe9173e45dbbbe4b30654baba64",
            "placeholder": "​",
            "style": "IPY_MODEL_506c6c640a2d4b41bcb88aa63b3838fe",
            "value": "100%"
          }
        },
        "281a9d9d502f4b089babb48fc8e9197e": {
          "model_module": "@jupyter-widgets/controls",
          "model_name": "FloatProgressModel",
          "model_module_version": "1.5.0",
          "state": {
            "_dom_classes": [],
            "_model_module": "@jupyter-widgets/controls",
            "_model_module_version": "1.5.0",
            "_model_name": "FloatProgressModel",
            "_view_count": null,
            "_view_module": "@jupyter-widgets/controls",
            "_view_module_version": "1.5.0",
            "_view_name": "ProgressView",
            "bar_style": "success",
            "description": "",
            "description_tooltip": null,
            "layout": "IPY_MODEL_fe862ecf6a2f4e87bb990433c411d51e",
            "max": 271,
            "min": 0,
            "orientation": "horizontal",
            "style": "IPY_MODEL_85b5abeeddba487da4fa20dd8c481f13",
            "value": 271
          }
        },
        "570619d8f5c6428bb715b9546eadc492": {
          "model_module": "@jupyter-widgets/controls",
          "model_name": "HTMLModel",
          "model_module_version": "1.5.0",
          "state": {
            "_dom_classes": [],
            "_model_module": "@jupyter-widgets/controls",
            "_model_module_version": "1.5.0",
            "_model_name": "HTMLModel",
            "_view_count": null,
            "_view_module": "@jupyter-widgets/controls",
            "_view_module_version": "1.5.0",
            "_view_name": "HTMLView",
            "description": "",
            "description_tooltip": null,
            "layout": "IPY_MODEL_2a3dc253a4c94f39a1b97a6c2fcecf2b",
            "placeholder": "​",
            "style": "IPY_MODEL_855e198d66674765a10ed9b98dada552",
            "value": " 271/271 [00:00&lt;00:00, 3963.91it/s]"
          }
        },
        "34f5747b2eaf4ed3b7184ed4211a342b": {
          "model_module": "@jupyter-widgets/base",
          "model_name": "LayoutModel",
          "model_module_version": "1.2.0",
          "state": {
            "_model_module": "@jupyter-widgets/base",
            "_model_module_version": "1.2.0",
            "_model_name": "LayoutModel",
            "_view_count": null,
            "_view_module": "@jupyter-widgets/base",
            "_view_module_version": "1.2.0",
            "_view_name": "LayoutView",
            "align_content": null,
            "align_items": null,
            "align_self": null,
            "border": null,
            "bottom": null,
            "display": null,
            "flex": null,
            "flex_flow": null,
            "grid_area": null,
            "grid_auto_columns": null,
            "grid_auto_flow": null,
            "grid_auto_rows": null,
            "grid_column": null,
            "grid_gap": null,
            "grid_row": null,
            "grid_template_areas": null,
            "grid_template_columns": null,
            "grid_template_rows": null,
            "height": null,
            "justify_content": null,
            "justify_items": null,
            "left": null,
            "margin": null,
            "max_height": null,
            "max_width": null,
            "min_height": null,
            "min_width": null,
            "object_fit": null,
            "object_position": null,
            "order": null,
            "overflow": null,
            "overflow_x": null,
            "overflow_y": null,
            "padding": null,
            "right": null,
            "top": null,
            "visibility": null,
            "width": null
          }
        },
        "c1f6ebe9173e45dbbbe4b30654baba64": {
          "model_module": "@jupyter-widgets/base",
          "model_name": "LayoutModel",
          "model_module_version": "1.2.0",
          "state": {
            "_model_module": "@jupyter-widgets/base",
            "_model_module_version": "1.2.0",
            "_model_name": "LayoutModel",
            "_view_count": null,
            "_view_module": "@jupyter-widgets/base",
            "_view_module_version": "1.2.0",
            "_view_name": "LayoutView",
            "align_content": null,
            "align_items": null,
            "align_self": null,
            "border": null,
            "bottom": null,
            "display": null,
            "flex": null,
            "flex_flow": null,
            "grid_area": null,
            "grid_auto_columns": null,
            "grid_auto_flow": null,
            "grid_auto_rows": null,
            "grid_column": null,
            "grid_gap": null,
            "grid_row": null,
            "grid_template_areas": null,
            "grid_template_columns": null,
            "grid_template_rows": null,
            "height": null,
            "justify_content": null,
            "justify_items": null,
            "left": null,
            "margin": null,
            "max_height": null,
            "max_width": null,
            "min_height": null,
            "min_width": null,
            "object_fit": null,
            "object_position": null,
            "order": null,
            "overflow": null,
            "overflow_x": null,
            "overflow_y": null,
            "padding": null,
            "right": null,
            "top": null,
            "visibility": null,
            "width": null
          }
        },
        "506c6c640a2d4b41bcb88aa63b3838fe": {
          "model_module": "@jupyter-widgets/controls",
          "model_name": "DescriptionStyleModel",
          "model_module_version": "1.5.0",
          "state": {
            "_model_module": "@jupyter-widgets/controls",
            "_model_module_version": "1.5.0",
            "_model_name": "DescriptionStyleModel",
            "_view_count": null,
            "_view_module": "@jupyter-widgets/base",
            "_view_module_version": "1.2.0",
            "_view_name": "StyleView",
            "description_width": ""
          }
        },
        "fe862ecf6a2f4e87bb990433c411d51e": {
          "model_module": "@jupyter-widgets/base",
          "model_name": "LayoutModel",
          "model_module_version": "1.2.0",
          "state": {
            "_model_module": "@jupyter-widgets/base",
            "_model_module_version": "1.2.0",
            "_model_name": "LayoutModel",
            "_view_count": null,
            "_view_module": "@jupyter-widgets/base",
            "_view_module_version": "1.2.0",
            "_view_name": "LayoutView",
            "align_content": null,
            "align_items": null,
            "align_self": null,
            "border": null,
            "bottom": null,
            "display": null,
            "flex": null,
            "flex_flow": null,
            "grid_area": null,
            "grid_auto_columns": null,
            "grid_auto_flow": null,
            "grid_auto_rows": null,
            "grid_column": null,
            "grid_gap": null,
            "grid_row": null,
            "grid_template_areas": null,
            "grid_template_columns": null,
            "grid_template_rows": null,
            "height": null,
            "justify_content": null,
            "justify_items": null,
            "left": null,
            "margin": null,
            "max_height": null,
            "max_width": null,
            "min_height": null,
            "min_width": null,
            "object_fit": null,
            "object_position": null,
            "order": null,
            "overflow": null,
            "overflow_x": null,
            "overflow_y": null,
            "padding": null,
            "right": null,
            "top": null,
            "visibility": null,
            "width": null
          }
        },
        "85b5abeeddba487da4fa20dd8c481f13": {
          "model_module": "@jupyter-widgets/controls",
          "model_name": "ProgressStyleModel",
          "model_module_version": "1.5.0",
          "state": {
            "_model_module": "@jupyter-widgets/controls",
            "_model_module_version": "1.5.0",
            "_model_name": "ProgressStyleModel",
            "_view_count": null,
            "_view_module": "@jupyter-widgets/base",
            "_view_module_version": "1.2.0",
            "_view_name": "StyleView",
            "bar_color": null,
            "description_width": ""
          }
        },
        "2a3dc253a4c94f39a1b97a6c2fcecf2b": {
          "model_module": "@jupyter-widgets/base",
          "model_name": "LayoutModel",
          "model_module_version": "1.2.0",
          "state": {
            "_model_module": "@jupyter-widgets/base",
            "_model_module_version": "1.2.0",
            "_model_name": "LayoutModel",
            "_view_count": null,
            "_view_module": "@jupyter-widgets/base",
            "_view_module_version": "1.2.0",
            "_view_name": "LayoutView",
            "align_content": null,
            "align_items": null,
            "align_self": null,
            "border": null,
            "bottom": null,
            "display": null,
            "flex": null,
            "flex_flow": null,
            "grid_area": null,
            "grid_auto_columns": null,
            "grid_auto_flow": null,
            "grid_auto_rows": null,
            "grid_column": null,
            "grid_gap": null,
            "grid_row": null,
            "grid_template_areas": null,
            "grid_template_columns": null,
            "grid_template_rows": null,
            "height": null,
            "justify_content": null,
            "justify_items": null,
            "left": null,
            "margin": null,
            "max_height": null,
            "max_width": null,
            "min_height": null,
            "min_width": null,
            "object_fit": null,
            "object_position": null,
            "order": null,
            "overflow": null,
            "overflow_x": null,
            "overflow_y": null,
            "padding": null,
            "right": null,
            "top": null,
            "visibility": null,
            "width": null
          }
        },
        "855e198d66674765a10ed9b98dada552": {
          "model_module": "@jupyter-widgets/controls",
          "model_name": "DescriptionStyleModel",
          "model_module_version": "1.5.0",
          "state": {
            "_model_module": "@jupyter-widgets/controls",
            "_model_module_version": "1.5.0",
            "_model_name": "DescriptionStyleModel",
            "_view_count": null,
            "_view_module": "@jupyter-widgets/base",
            "_view_module_version": "1.2.0",
            "_view_name": "StyleView",
            "description_width": ""
          }
        },
        "b3112015bc55443aba311a67d707ef2d": {
          "model_module": "@jupyter-widgets/controls",
          "model_name": "HBoxModel",
          "model_module_version": "1.5.0",
          "state": {
            "_dom_classes": [],
            "_model_module": "@jupyter-widgets/controls",
            "_model_module_version": "1.5.0",
            "_model_name": "HBoxModel",
            "_view_count": null,
            "_view_module": "@jupyter-widgets/controls",
            "_view_module_version": "1.5.0",
            "_view_name": "HBoxView",
            "box_style": "",
            "children": [
              "IPY_MODEL_35fea16e15ce4a91942b6480ff1fd207",
              "IPY_MODEL_907e956fc0574ffeb60cf6f6aa983a90",
              "IPY_MODEL_900a9c8efa564808a1f2eaaad6991b0d"
            ],
            "layout": "IPY_MODEL_8d010466edbe497a897ce1e8181f29a3"
          }
        },
        "35fea16e15ce4a91942b6480ff1fd207": {
          "model_module": "@jupyter-widgets/controls",
          "model_name": "HTMLModel",
          "model_module_version": "1.5.0",
          "state": {
            "_dom_classes": [],
            "_model_module": "@jupyter-widgets/controls",
            "_model_module_version": "1.5.0",
            "_model_name": "HTMLModel",
            "_view_count": null,
            "_view_module": "@jupyter-widgets/controls",
            "_view_module_version": "1.5.0",
            "_view_name": "HTMLView",
            "description": "",
            "description_tooltip": null,
            "layout": "IPY_MODEL_d8d48e479c2f480dae05dd6336cab8a7",
            "placeholder": "​",
            "style": "IPY_MODEL_f7acbfc196af4e99865cf548ead382a7",
            "value": "100%"
          }
        },
        "907e956fc0574ffeb60cf6f6aa983a90": {
          "model_module": "@jupyter-widgets/controls",
          "model_name": "FloatProgressModel",
          "model_module_version": "1.5.0",
          "state": {
            "_dom_classes": [],
            "_model_module": "@jupyter-widgets/controls",
            "_model_module_version": "1.5.0",
            "_model_name": "FloatProgressModel",
            "_view_count": null,
            "_view_module": "@jupyter-widgets/controls",
            "_view_module_version": "1.5.0",
            "_view_name": "ProgressView",
            "bar_style": "success",
            "description": "",
            "description_tooltip": null,
            "layout": "IPY_MODEL_9c81be3469df4f1380b3c1a1277ed830",
            "max": 271,
            "min": 0,
            "orientation": "horizontal",
            "style": "IPY_MODEL_741cea9d286f4ea190b529b7790cc52c",
            "value": 271
          }
        },
        "900a9c8efa564808a1f2eaaad6991b0d": {
          "model_module": "@jupyter-widgets/controls",
          "model_name": "HTMLModel",
          "model_module_version": "1.5.0",
          "state": {
            "_dom_classes": [],
            "_model_module": "@jupyter-widgets/controls",
            "_model_module_version": "1.5.0",
            "_model_name": "HTMLModel",
            "_view_count": null,
            "_view_module": "@jupyter-widgets/controls",
            "_view_module_version": "1.5.0",
            "_view_name": "HTMLView",
            "description": "",
            "description_tooltip": null,
            "layout": "IPY_MODEL_3868c1a94689491d89cc8e2efb38089e",
            "placeholder": "​",
            "style": "IPY_MODEL_2e55aba11dbc4fbba16072950cd72c3d",
            "value": " 271/271 [00:19&lt;00:00, 13.01it/s]"
          }
        },
        "8d010466edbe497a897ce1e8181f29a3": {
          "model_module": "@jupyter-widgets/base",
          "model_name": "LayoutModel",
          "model_module_version": "1.2.0",
          "state": {
            "_model_module": "@jupyter-widgets/base",
            "_model_module_version": "1.2.0",
            "_model_name": "LayoutModel",
            "_view_count": null,
            "_view_module": "@jupyter-widgets/base",
            "_view_module_version": "1.2.0",
            "_view_name": "LayoutView",
            "align_content": null,
            "align_items": null,
            "align_self": null,
            "border": null,
            "bottom": null,
            "display": null,
            "flex": null,
            "flex_flow": null,
            "grid_area": null,
            "grid_auto_columns": null,
            "grid_auto_flow": null,
            "grid_auto_rows": null,
            "grid_column": null,
            "grid_gap": null,
            "grid_row": null,
            "grid_template_areas": null,
            "grid_template_columns": null,
            "grid_template_rows": null,
            "height": null,
            "justify_content": null,
            "justify_items": null,
            "left": null,
            "margin": null,
            "max_height": null,
            "max_width": null,
            "min_height": null,
            "min_width": null,
            "object_fit": null,
            "object_position": null,
            "order": null,
            "overflow": null,
            "overflow_x": null,
            "overflow_y": null,
            "padding": null,
            "right": null,
            "top": null,
            "visibility": null,
            "width": null
          }
        },
        "d8d48e479c2f480dae05dd6336cab8a7": {
          "model_module": "@jupyter-widgets/base",
          "model_name": "LayoutModel",
          "model_module_version": "1.2.0",
          "state": {
            "_model_module": "@jupyter-widgets/base",
            "_model_module_version": "1.2.0",
            "_model_name": "LayoutModel",
            "_view_count": null,
            "_view_module": "@jupyter-widgets/base",
            "_view_module_version": "1.2.0",
            "_view_name": "LayoutView",
            "align_content": null,
            "align_items": null,
            "align_self": null,
            "border": null,
            "bottom": null,
            "display": null,
            "flex": null,
            "flex_flow": null,
            "grid_area": null,
            "grid_auto_columns": null,
            "grid_auto_flow": null,
            "grid_auto_rows": null,
            "grid_column": null,
            "grid_gap": null,
            "grid_row": null,
            "grid_template_areas": null,
            "grid_template_columns": null,
            "grid_template_rows": null,
            "height": null,
            "justify_content": null,
            "justify_items": null,
            "left": null,
            "margin": null,
            "max_height": null,
            "max_width": null,
            "min_height": null,
            "min_width": null,
            "object_fit": null,
            "object_position": null,
            "order": null,
            "overflow": null,
            "overflow_x": null,
            "overflow_y": null,
            "padding": null,
            "right": null,
            "top": null,
            "visibility": null,
            "width": null
          }
        },
        "f7acbfc196af4e99865cf548ead382a7": {
          "model_module": "@jupyter-widgets/controls",
          "model_name": "DescriptionStyleModel",
          "model_module_version": "1.5.0",
          "state": {
            "_model_module": "@jupyter-widgets/controls",
            "_model_module_version": "1.5.0",
            "_model_name": "DescriptionStyleModel",
            "_view_count": null,
            "_view_module": "@jupyter-widgets/base",
            "_view_module_version": "1.2.0",
            "_view_name": "StyleView",
            "description_width": ""
          }
        },
        "9c81be3469df4f1380b3c1a1277ed830": {
          "model_module": "@jupyter-widgets/base",
          "model_name": "LayoutModel",
          "model_module_version": "1.2.0",
          "state": {
            "_model_module": "@jupyter-widgets/base",
            "_model_module_version": "1.2.0",
            "_model_name": "LayoutModel",
            "_view_count": null,
            "_view_module": "@jupyter-widgets/base",
            "_view_module_version": "1.2.0",
            "_view_name": "LayoutView",
            "align_content": null,
            "align_items": null,
            "align_self": null,
            "border": null,
            "bottom": null,
            "display": null,
            "flex": null,
            "flex_flow": null,
            "grid_area": null,
            "grid_auto_columns": null,
            "grid_auto_flow": null,
            "grid_auto_rows": null,
            "grid_column": null,
            "grid_gap": null,
            "grid_row": null,
            "grid_template_areas": null,
            "grid_template_columns": null,
            "grid_template_rows": null,
            "height": null,
            "justify_content": null,
            "justify_items": null,
            "left": null,
            "margin": null,
            "max_height": null,
            "max_width": null,
            "min_height": null,
            "min_width": null,
            "object_fit": null,
            "object_position": null,
            "order": null,
            "overflow": null,
            "overflow_x": null,
            "overflow_y": null,
            "padding": null,
            "right": null,
            "top": null,
            "visibility": null,
            "width": null
          }
        },
        "741cea9d286f4ea190b529b7790cc52c": {
          "model_module": "@jupyter-widgets/controls",
          "model_name": "ProgressStyleModel",
          "model_module_version": "1.5.0",
          "state": {
            "_model_module": "@jupyter-widgets/controls",
            "_model_module_version": "1.5.0",
            "_model_name": "ProgressStyleModel",
            "_view_count": null,
            "_view_module": "@jupyter-widgets/base",
            "_view_module_version": "1.2.0",
            "_view_name": "StyleView",
            "bar_color": null,
            "description_width": ""
          }
        },
        "3868c1a94689491d89cc8e2efb38089e": {
          "model_module": "@jupyter-widgets/base",
          "model_name": "LayoutModel",
          "model_module_version": "1.2.0",
          "state": {
            "_model_module": "@jupyter-widgets/base",
            "_model_module_version": "1.2.0",
            "_model_name": "LayoutModel",
            "_view_count": null,
            "_view_module": "@jupyter-widgets/base",
            "_view_module_version": "1.2.0",
            "_view_name": "LayoutView",
            "align_content": null,
            "align_items": null,
            "align_self": null,
            "border": null,
            "bottom": null,
            "display": null,
            "flex": null,
            "flex_flow": null,
            "grid_area": null,
            "grid_auto_columns": null,
            "grid_auto_flow": null,
            "grid_auto_rows": null,
            "grid_column": null,
            "grid_gap": null,
            "grid_row": null,
            "grid_template_areas": null,
            "grid_template_columns": null,
            "grid_template_rows": null,
            "height": null,
            "justify_content": null,
            "justify_items": null,
            "left": null,
            "margin": null,
            "max_height": null,
            "max_width": null,
            "min_height": null,
            "min_width": null,
            "object_fit": null,
            "object_position": null,
            "order": null,
            "overflow": null,
            "overflow_x": null,
            "overflow_y": null,
            "padding": null,
            "right": null,
            "top": null,
            "visibility": null,
            "width": null
          }
        },
        "2e55aba11dbc4fbba16072950cd72c3d": {
          "model_module": "@jupyter-widgets/controls",
          "model_name": "DescriptionStyleModel",
          "model_module_version": "1.5.0",
          "state": {
            "_model_module": "@jupyter-widgets/controls",
            "_model_module_version": "1.5.0",
            "_model_name": "DescriptionStyleModel",
            "_view_count": null,
            "_view_module": "@jupyter-widgets/base",
            "_view_module_version": "1.2.0",
            "_view_name": "StyleView",
            "description_width": ""
          }
        }
      }
    }
  },
  "nbformat": 4,
  "nbformat_minor": 0
}